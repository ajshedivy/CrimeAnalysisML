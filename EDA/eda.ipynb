{
 "cells": [
  {
   "cell_type": "code",
   "execution_count": 1,
   "id": "f3690d94-adc4-4bda-8847-d50877bae8bc",
   "metadata": {},
   "outputs": [],
   "source": [
    "from pathlib import Path \n",
    "import pandas as pd\n",
    "import os\n",
    "\n",
    "root_dir = Path(os.getcwd()).parent\n",
    "data_path = os.path.join(root_dir, 'data', 'data.zip')\n",
    "chunk = pd.read_csv(data_path, chunksize=1000000)\n",
    "data = pd.concat(chunk)"
   ]
  },
  {
   "cell_type": "code",
   "execution_count": 2,
   "id": "320fb7b4-ff9e-4af7-b3b5-aa1aa5e40042",
   "metadata": {},
   "outputs": [
    {
     "data": {
      "text/html": [
       "<div>\n",
       "<style scoped>\n",
       "    .dataframe tbody tr th:only-of-type {\n",
       "        vertical-align: middle;\n",
       "    }\n",
       "\n",
       "    .dataframe tbody tr th {\n",
       "        vertical-align: top;\n",
       "    }\n",
       "\n",
       "    .dataframe thead th {\n",
       "        text-align: right;\n",
       "    }\n",
       "</style>\n",
       "<table border=\"1\" class=\"dataframe\">\n",
       "  <thead>\n",
       "    <tr style=\"text-align: right;\">\n",
       "      <th></th>\n",
       "      <th>ID</th>\n",
       "      <th>Case Number</th>\n",
       "      <th>Date</th>\n",
       "      <th>Block</th>\n",
       "      <th>IUCR</th>\n",
       "      <th>Primary Type</th>\n",
       "      <th>Description</th>\n",
       "      <th>Location Description</th>\n",
       "      <th>Arrest</th>\n",
       "      <th>Domestic</th>\n",
       "      <th>...</th>\n",
       "      <th>Ward</th>\n",
       "      <th>Community Area</th>\n",
       "      <th>FBI Code</th>\n",
       "      <th>X Coordinate</th>\n",
       "      <th>Y Coordinate</th>\n",
       "      <th>Year</th>\n",
       "      <th>Updated On</th>\n",
       "      <th>Latitude</th>\n",
       "      <th>Longitude</th>\n",
       "      <th>Location</th>\n",
       "    </tr>\n",
       "  </thead>\n",
       "  <tbody>\n",
       "    <tr>\n",
       "      <th>0</th>\n",
       "      <td>10224738</td>\n",
       "      <td>HY411648</td>\n",
       "      <td>09/05/2015 01:30:00 PM</td>\n",
       "      <td>043XX S WOOD ST</td>\n",
       "      <td>0486</td>\n",
       "      <td>BATTERY</td>\n",
       "      <td>DOMESTIC BATTERY SIMPLE</td>\n",
       "      <td>RESIDENCE</td>\n",
       "      <td>False</td>\n",
       "      <td>True</td>\n",
       "      <td>...</td>\n",
       "      <td>12.0</td>\n",
       "      <td>61.0</td>\n",
       "      <td>08B</td>\n",
       "      <td>1165074.0</td>\n",
       "      <td>1875917.0</td>\n",
       "      <td>2015</td>\n",
       "      <td>02/10/2018 03:50:01 PM</td>\n",
       "      <td>41.815117</td>\n",
       "      <td>-87.670000</td>\n",
       "      <td>(41.815117282, -87.669999562)</td>\n",
       "    </tr>\n",
       "    <tr>\n",
       "      <th>1</th>\n",
       "      <td>10224739</td>\n",
       "      <td>HY411615</td>\n",
       "      <td>09/04/2015 11:30:00 AM</td>\n",
       "      <td>008XX N CENTRAL AVE</td>\n",
       "      <td>0870</td>\n",
       "      <td>THEFT</td>\n",
       "      <td>POCKET-PICKING</td>\n",
       "      <td>CTA BUS</td>\n",
       "      <td>False</td>\n",
       "      <td>False</td>\n",
       "      <td>...</td>\n",
       "      <td>29.0</td>\n",
       "      <td>25.0</td>\n",
       "      <td>06</td>\n",
       "      <td>1138875.0</td>\n",
       "      <td>1904869.0</td>\n",
       "      <td>2015</td>\n",
       "      <td>02/10/2018 03:50:01 PM</td>\n",
       "      <td>41.895080</td>\n",
       "      <td>-87.765400</td>\n",
       "      <td>(41.895080471, -87.765400451)</td>\n",
       "    </tr>\n",
       "    <tr>\n",
       "      <th>2</th>\n",
       "      <td>11646166</td>\n",
       "      <td>JC213529</td>\n",
       "      <td>09/01/2018 12:01:00 AM</td>\n",
       "      <td>082XX S INGLESIDE AVE</td>\n",
       "      <td>0810</td>\n",
       "      <td>THEFT</td>\n",
       "      <td>OVER $500</td>\n",
       "      <td>RESIDENCE</td>\n",
       "      <td>False</td>\n",
       "      <td>True</td>\n",
       "      <td>...</td>\n",
       "      <td>8.0</td>\n",
       "      <td>44.0</td>\n",
       "      <td>06</td>\n",
       "      <td>NaN</td>\n",
       "      <td>NaN</td>\n",
       "      <td>2018</td>\n",
       "      <td>04/06/2019 04:04:43 PM</td>\n",
       "      <td>NaN</td>\n",
       "      <td>NaN</td>\n",
       "      <td>NaN</td>\n",
       "    </tr>\n",
       "    <tr>\n",
       "      <th>3</th>\n",
       "      <td>10224740</td>\n",
       "      <td>HY411595</td>\n",
       "      <td>09/05/2015 12:45:00 PM</td>\n",
       "      <td>035XX W BARRY AVE</td>\n",
       "      <td>2023</td>\n",
       "      <td>NARCOTICS</td>\n",
       "      <td>POSS: HEROIN(BRN/TAN)</td>\n",
       "      <td>SIDEWALK</td>\n",
       "      <td>True</td>\n",
       "      <td>False</td>\n",
       "      <td>...</td>\n",
       "      <td>35.0</td>\n",
       "      <td>21.0</td>\n",
       "      <td>18</td>\n",
       "      <td>1152037.0</td>\n",
       "      <td>1920384.0</td>\n",
       "      <td>2015</td>\n",
       "      <td>02/10/2018 03:50:01 PM</td>\n",
       "      <td>41.937406</td>\n",
       "      <td>-87.716650</td>\n",
       "      <td>(41.937405765, -87.716649687)</td>\n",
       "    </tr>\n",
       "    <tr>\n",
       "      <th>4</th>\n",
       "      <td>10224741</td>\n",
       "      <td>HY411610</td>\n",
       "      <td>09/05/2015 01:00:00 PM</td>\n",
       "      <td>0000X N LARAMIE AVE</td>\n",
       "      <td>0560</td>\n",
       "      <td>ASSAULT</td>\n",
       "      <td>SIMPLE</td>\n",
       "      <td>APARTMENT</td>\n",
       "      <td>False</td>\n",
       "      <td>True</td>\n",
       "      <td>...</td>\n",
       "      <td>28.0</td>\n",
       "      <td>25.0</td>\n",
       "      <td>08A</td>\n",
       "      <td>1141706.0</td>\n",
       "      <td>1900086.0</td>\n",
       "      <td>2015</td>\n",
       "      <td>02/10/2018 03:50:01 PM</td>\n",
       "      <td>41.881903</td>\n",
       "      <td>-87.755121</td>\n",
       "      <td>(41.881903443, -87.755121152)</td>\n",
       "    </tr>\n",
       "  </tbody>\n",
       "</table>\n",
       "<p>5 rows × 22 columns</p>\n",
       "</div>"
      ],
      "text/plain": [
       "         ID Case Number                    Date                  Block  IUCR  \\\n",
       "0  10224738    HY411648  09/05/2015 01:30:00 PM        043XX S WOOD ST  0486   \n",
       "1  10224739    HY411615  09/04/2015 11:30:00 AM    008XX N CENTRAL AVE  0870   \n",
       "2  11646166    JC213529  09/01/2018 12:01:00 AM  082XX S INGLESIDE AVE  0810   \n",
       "3  10224740    HY411595  09/05/2015 12:45:00 PM      035XX W BARRY AVE  2023   \n",
       "4  10224741    HY411610  09/05/2015 01:00:00 PM    0000X N LARAMIE AVE  0560   \n",
       "\n",
       "  Primary Type              Description Location Description  Arrest  \\\n",
       "0      BATTERY  DOMESTIC BATTERY SIMPLE            RESIDENCE   False   \n",
       "1        THEFT           POCKET-PICKING              CTA BUS   False   \n",
       "2        THEFT                OVER $500            RESIDENCE   False   \n",
       "3    NARCOTICS    POSS: HEROIN(BRN/TAN)             SIDEWALK    True   \n",
       "4      ASSAULT                   SIMPLE            APARTMENT   False   \n",
       "\n",
       "   Domestic  ...  Ward  Community Area  FBI Code  X Coordinate Y Coordinate  \\\n",
       "0      True  ...  12.0            61.0       08B     1165074.0    1875917.0   \n",
       "1     False  ...  29.0            25.0        06     1138875.0    1904869.0   \n",
       "2      True  ...   8.0            44.0        06           NaN          NaN   \n",
       "3     False  ...  35.0            21.0        18     1152037.0    1920384.0   \n",
       "4      True  ...  28.0            25.0       08A     1141706.0    1900086.0   \n",
       "\n",
       "   Year              Updated On   Latitude  Longitude  \\\n",
       "0  2015  02/10/2018 03:50:01 PM  41.815117 -87.670000   \n",
       "1  2015  02/10/2018 03:50:01 PM  41.895080 -87.765400   \n",
       "2  2018  04/06/2019 04:04:43 PM        NaN        NaN   \n",
       "3  2015  02/10/2018 03:50:01 PM  41.937406 -87.716650   \n",
       "4  2015  02/10/2018 03:50:01 PM  41.881903 -87.755121   \n",
       "\n",
       "                        Location  \n",
       "0  (41.815117282, -87.669999562)  \n",
       "1  (41.895080471, -87.765400451)  \n",
       "2                            NaN  \n",
       "3  (41.937405765, -87.716649687)  \n",
       "4  (41.881903443, -87.755121152)  \n",
       "\n",
       "[5 rows x 22 columns]"
      ]
     },
     "execution_count": 2,
     "metadata": {},
     "output_type": "execute_result"
    }
   ],
   "source": [
    "data.head()"
   ]
  },
  {
   "cell_type": "code",
   "execution_count": 3,
   "id": "a2ac7b00-50fb-42a8-a4b8-1ff118dfb048",
   "metadata": {},
   "outputs": [
    {
     "name": "stdout",
     "output_type": "stream",
     "text": [
      "<class 'pandas.core.frame.DataFrame'>\n",
      "RangeIndex: 7415327 entries, 0 to 7415326\n",
      "Data columns (total 22 columns):\n",
      " #   Column                Dtype  \n",
      "---  ------                -----  \n",
      " 0   ID                    int64  \n",
      " 1   Case Number           object \n",
      " 2   Date                  object \n",
      " 3   Block                 object \n",
      " 4   IUCR                  object \n",
      " 5   Primary Type          object \n",
      " 6   Description           object \n",
      " 7   Location Description  object \n",
      " 8   Arrest                bool   \n",
      " 9   Domestic              bool   \n",
      " 10  Beat                  int64  \n",
      " 11  District              float64\n",
      " 12  Ward                  float64\n",
      " 13  Community Area        float64\n",
      " 14  FBI Code              object \n",
      " 15  X Coordinate          float64\n",
      " 16  Y Coordinate          float64\n",
      " 17  Year                  int64  \n",
      " 18  Updated On            object \n",
      " 19  Latitude              float64\n",
      " 20  Longitude             float64\n",
      " 21  Location              object \n",
      "dtypes: bool(2), float64(7), int64(3), object(10)\n",
      "memory usage: 1.1+ GB\n"
     ]
    }
   ],
   "source": [
    "data.info()"
   ]
  },
  {
   "cell_type": "code",
   "execution_count": 5,
   "id": "08623cf0-627c-46b5-bfcd-ae69a5b3164d",
   "metadata": {},
   "outputs": [
    {
     "data": {
      "text/plain": [
       "1608855"
      ]
     },
     "execution_count": 5,
     "metadata": {},
     "output_type": "execute_result"
    }
   ],
   "source": [
    "import numpy as np\n",
    "np.count_nonzero(data.isnull())"
   ]
  },
  {
   "cell_type": "code",
   "execution_count": 6,
   "id": "8afe3cba-7bbd-401b-a187-01e37ce76aed",
   "metadata": {},
   "outputs": [],
   "source": [
    "data.dropna(how='any', axis=0, inplace=True)"
   ]
  },
  {
   "cell_type": "code",
   "execution_count": 12,
   "id": "4fc61f3f-d65e-4635-b2cf-2f50db285ceb",
   "metadata": {},
   "outputs": [
    {
     "data": {
      "text/plain": [
       "{'ARSON',\n",
       " 'ASSAULT',\n",
       " 'BATTERY',\n",
       " 'BURGLARY',\n",
       " 'CONCEALED CARRY LICENSE VIOLATION',\n",
       " 'CRIM SEXUAL ASSAULT',\n",
       " 'CRIMINAL DAMAGE',\n",
       " 'CRIMINAL SEXUAL ASSAULT',\n",
       " 'CRIMINAL TRESPASS',\n",
       " 'DECEPTIVE PRACTICE',\n",
       " 'GAMBLING',\n",
       " 'HOMICIDE',\n",
       " 'HUMAN TRAFFICKING',\n",
       " 'INTERFERENCE WITH PUBLIC OFFICER',\n",
       " 'INTIMIDATION',\n",
       " 'KIDNAPPING',\n",
       " 'LIQUOR LAW VIOLATION',\n",
       " 'MOTOR VEHICLE THEFT',\n",
       " 'NARCOTICS',\n",
       " 'NON - CRIMINAL',\n",
       " 'NON-CRIMINAL',\n",
       " 'NON-CRIMINAL (SUBJECT SPECIFIED)',\n",
       " 'OBSCENITY',\n",
       " 'OFFENSE INVOLVING CHILDREN',\n",
       " 'OTHER NARCOTIC VIOLATION',\n",
       " 'OTHER OFFENSE',\n",
       " 'PROSTITUTION',\n",
       " 'PUBLIC INDECENCY',\n",
       " 'PUBLIC PEACE VIOLATION',\n",
       " 'RITUALISM',\n",
       " 'ROBBERY',\n",
       " 'SEX OFFENSE',\n",
       " 'STALKING',\n",
       " 'THEFT',\n",
       " 'WEAPONS VIOLATION'}"
      ]
     },
     "execution_count": 12,
     "metadata": {},
     "output_type": "execute_result"
    }
   ],
   "source": [
    "set(list(data['Primary Type'].values))"
   ]
  },
  {
   "cell_type": "code",
   "execution_count": 17,
   "id": "26d1b37e-6155-4a03-884c-9dc9d1d3b3cc",
   "metadata": {},
   "outputs": [
    {
     "data": {
      "text/plain": [
       "False    4936829\n",
       "True     1791758\n",
       "Name: Arrest, dtype: int64"
      ]
     },
     "execution_count": 17,
     "metadata": {},
     "output_type": "execute_result"
    }
   ],
   "source": [
    "data['Arrest'].value_counts()"
   ]
  },
  {
   "cell_type": "code",
   "execution_count": 18,
   "id": "3962bb80-0559-4426-9dd3-330e1fd72874",
   "metadata": {},
   "outputs": [
    {
     "data": {
      "text/plain": [
       "0.36293701888398405"
      ]
     },
     "execution_count": 18,
     "metadata": {},
     "output_type": "execute_result"
    }
   ],
   "source": [
    "1791758/4936829"
   ]
  },
  {
   "cell_type": "code",
   "execution_count": null,
   "id": "ff9cec03-9258-49d9-bbc3-adae2d0178e5",
   "metadata": {},
   "outputs": [],
   "source": []
  }
 ],
 "metadata": {
  "kernelspec": {
   "display_name": "Python 3 (ipykernel)",
   "language": "python",
   "name": "python3"
  },
  "language_info": {
   "codemirror_mode": {
    "name": "ipython",
    "version": 3
   },
   "file_extension": ".py",
   "mimetype": "text/x-python",
   "name": "python",
   "nbconvert_exporter": "python",
   "pygments_lexer": "ipython3",
   "version": "3.9.7"
  }
 },
 "nbformat": 4,
 "nbformat_minor": 5
}

{
 "cells": [
  {
   "cell_type": "code",
   "execution_count": 2,
   "id": "feb84061-d82d-44a8-9272-865e6be6bea3",
   "metadata": {},
   "outputs": [],
   "source": [
    "import os\n",
    "from pathlib import Path\n",
    "import csv\n",
    "import zipfile\n",
    "import pandas as pd"
   ]
  },
  {
   "cell_type": "code",
   "execution_count": 5,
   "id": "b1ed8b3d-6f79-4c7d-8ca4-090fe949809b",
   "metadata": {},
   "outputs": [
    {
     "name": "stdout",
     "output_type": "stream",
     "text": [
      "C:\\Users\\ajshe\\Documents\\year4\\fall-2021\\stat451\\CrimeAnalysisML\\data\\cleaned_data.zip\n"
     ]
    }
   ],
   "source": [
    "data_tag = 'cleaned_data.zip'\n",
    "root_dir = root_dir = Path(os.getcwd()).parent\n",
    "data_path = os.path.join(root_dir, 'data', data_tag)\n",
    "print(data_path)"
   ]
  },
  {
   "cell_type": "code",
   "execution_count": 10,
   "id": "0990290a-8383-4be9-863b-bf7c3fa2a095",
   "metadata": {},
   "outputs": [],
   "source": [
    "with zipfile.ZipFile(data_path) as zf:\n",
    "    for filename in zf.namelist():\n",
    "        if os.path.isdir(filename):\n",
    "            print(filename)"
   ]
  },
  {
   "cell_type": "code",
   "execution_count": null,
   "id": "6f499f31-7385-4281-9020-5a9a3c818d06",
   "metadata": {},
   "outputs": [],
   "source": []
  }
 ],
 "metadata": {
  "kernelspec": {
   "display_name": "Python 3 (ipykernel)",
   "language": "python",
   "name": "python3"
  },
  "language_info": {
   "codemirror_mode": {
    "name": "ipython",
    "version": 3
   },
   "file_extension": ".py",
   "mimetype": "text/x-python",
   "name": "python",
   "nbconvert_exporter": "python",
   "pygments_lexer": "ipython3",
   "version": "3.9.7"
  }
 },
 "nbformat": 4,
 "nbformat_minor": 5
}

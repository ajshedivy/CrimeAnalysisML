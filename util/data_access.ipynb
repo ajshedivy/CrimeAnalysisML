{
 "cells": [
  {
   "cell_type": "code",
   "execution_count": 2,
   "id": "feb84061-d82d-44a8-9272-865e6be6bea3",
   "metadata": {},
   "outputs": [],
   "source": [
    "import os\n",
    "from pathlib import Path\n",
    "import csv\n",
    "import zipfile\n",
    "import pandas as pd"
   ]
  },
  {
   "cell_type": "code",
   "execution_count": 5,
   "id": "b1ed8b3d-6f79-4c7d-8ca4-090fe949809b",
   "metadata": {},
   "outputs": [
    {
     "name": "stdout",
     "output_type": "stream",
     "text": [
      "C:\\Users\\ajshe\\Documents\\year4\\fall-2021\\stat451\\CrimeAnalysisML\\data\\cleaned_data.zip\n"
     ]
    }
   ],
   "source": [
    "data_tag = 'cleaned_data.zip'\n",
    "root_dir = root_dir = Path(os.getcwd()).parent\n",
    "data_path = os.path.join(root_dir, 'data', data_tag)\n",
    "print(data_path)"
   ]
  },
  {
   "cell_type": "code",
   "execution_count": 136,
   "id": "0990290a-8383-4be9-863b-bf7c3fa2a095",
   "metadata": {},
   "outputs": [
    {
     "name": "stdout",
     "output_type": "stream",
     "text": [
      "['data/2001/data_2001.csv', 'data/2002/data_2002.csv', 'data/2005/data_2005.csv']\n",
      "downloading data/2001/data_2001.csv\n",
      "downloading data/2002/data_2002.csv\n",
      "downloading data/2003/data_2003.csv\n",
      "820904\n"
     ]
    }
   ],
   "source": [
    "df = pd.DataFrame()\n",
    "m_data = []\n",
    "i = 0\n",
    "first_read = True\n",
    "header = 0\n",
    "data_dir = 'data/{}/data_{}.csv'\n",
    "\n",
    "years = ['2001', '2002', '2005']\n",
    "\n",
    "with zipfile.ZipFile(data_path, 'r') as zf:\n",
    "    files = [file for file in zf.namelist() if file.endswith('.csv')][1:]\n",
    "    filterd = [data_dir.format(year, year) for year in years]\n",
    "    print(filterd)\n",
    "    for filename in files:\n",
    "        if i == 3:\n",
    "            break\n",
    "        print(f'downloading {filename}')\n",
    "        with zf.open(filename, 'r') as f:\n",
    "            data = []\n",
    "            if first_read:\n",
    "                first_read = False\n",
    "            else:\n",
    "                header = 1\n",
    "                \n",
    "            for line in f.readlines()[header:]:\n",
    "                row = csv.StringIO(line.decode().rstrip())\n",
    "                reader = csv.reader(row, delimiter=',')\n",
    "                split_str = list(reader)[0]\n",
    "                if len(split_str) != 39:\n",
    "                    print('issues')\n",
    "                m_data.append(split_str)\n",
    "        i += 1\n",
    "            \n",
    "        \n",
    "print(len(m_data))          \n"
   ]
  },
  {
   "cell_type": "code",
   "execution_count": 116,
   "id": "6f499f31-7385-4281-9020-5a9a3c818d06",
   "metadata": {},
   "outputs": [
    {
     "data": {
      "text/plain": [
       "2002    345024\n",
       "2001      3887\n",
       "Year         1\n",
       "Name: Year, dtype: int64"
      ]
     },
     "execution_count": 116,
     "metadata": {},
     "output_type": "execute_result"
    }
   ],
   "source": [
    "df[\"Year\"].value_counts()"
   ]
  },
  {
   "cell_type": "code",
   "execution_count": 132,
   "id": "1f008184-c0ce-4cbd-8b43-a8f4320e2238",
   "metadata": {},
   "outputs": [
    {
     "data": {
      "text/plain": [
       "'2003-test-2003'"
      ]
     },
     "execution_count": 132,
     "metadata": {},
     "output_type": "execute_result"
    }
   ],
   "source": [
    "year = '2001'\n",
    "data_dir = \"{}-test-{}\"\n",
    "data_dir.format(\"2003\", \"2003\")"
   ]
  },
  {
   "cell_type": "code",
   "execution_count": null,
   "id": "9460b1d5-1fbd-4b2d-a275-9ef893c20170",
   "metadata": {},
   "outputs": [],
   "source": []
  }
 ],
 "metadata": {
  "kernelspec": {
   "display_name": "Python 3 (ipykernel)",
   "language": "python",
   "name": "python3"
  },
  "language_info": {
   "codemirror_mode": {
    "name": "ipython",
    "version": 3
   },
   "file_extension": ".py",
   "mimetype": "text/x-python",
   "name": "python",
   "nbconvert_exporter": "python",
   "pygments_lexer": "ipython3",
   "version": "3.9.7"
  }
 },
 "nbformat": 4,
 "nbformat_minor": 5
}

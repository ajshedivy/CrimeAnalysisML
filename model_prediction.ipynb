{
 "cells": [
  {
   "cell_type": "markdown",
   "id": "81718501",
   "metadata": {},
   "source": [
    "# Predicting Arrests in Chicago"
   ]
  },
  {
   "cell_type": "code",
   "execution_count": 1,
   "id": "c65f2780",
   "metadata": {},
   "outputs": [],
   "source": [
    "# import libraries\n",
    "import os\n",
    "import pandas as pd\n",
    "import numpy as np\n",
    "\n",
    "# import seaborn as sns # install seaborn with either pip or conda, used for heat maps\n",
    "%matplotlib inline\n",
    "from matplotlib import pyplot as plt\n",
    "from matplotlib import style\n",
    "\n",
    "# Algorithms\n",
    "from sklearn import linear_model\n",
    "from sklearn.linear_model import SGDClassifier, LogisticRegression\n",
    "from sklearn.ensemble import RandomForestClassifier\n",
    "from sklearn.linear_model import Perceptron\n",
    "from sklearn.tree import DecisionTreeClassifier\n",
    "from sklearn.neighbors import KNeighborsClassifier\n",
    "from sklearn.svm import SVC, LinearSVC\n",
    "from sklearn.naive_bayes import GaussianNB, MultinomialNB\n",
    "from sklearn.ensemble import AdaBoostClassifier, ExtraTreesClassifier\n",
    "from sklearn.neural_network import MLPClassifier\n",
    "from xgboost import XGBClassifier\n",
    "import xgboost as xgb\n",
    "\n",
    "# import DataSet\n",
    "from util.data_util import DataSet\n",
    "\n",
    "from sklearn.model_selection import train_test_split\n",
    "from sklearn.metrics import log_loss, confusion_matrix, precision_recall_curve, \\\n",
    "precision_score, precision_recall_fscore_support, plot_confusion_matrix\n",
    "from sklearn.metrics import ConfusionMatrixDisplay"
   ]
  },
  {
   "cell_type": "markdown",
   "id": "5583485e",
   "metadata": {},
   "source": [
    "## Load data"
   ]
  },
  {
   "cell_type": "code",
   "execution_count": 2,
   "id": "68782026",
   "metadata": {},
   "outputs": [],
   "source": [
    "def create_master_df():\n",
    "    cleaned_data = 'cleaned_data.zip'\n",
    "    ds = DataSet(cleaned_data)\n",
    "    data = ds.load_subset(['2010'])\n",
    "    df = data.apply(pd.to_numeric, errors = 'ignore')\n",
    "\n",
    "    root_dir = os.getcwd()\n",
    "    com_data = os.path.join(root_dir, 'data', 'Per_Capita_Income.csv')\n",
    "    com_df = pd.read_csv(com_data)\n",
    "    com_df = com_df.apply(pd.to_numeric, errors='ignore')\n",
    "\n",
    "    com_df.fillna(0)\n",
    "    com_df = com_df.rename(columns={'Community Area Number': 'Community Area'})\n",
    "    df = df[df['Community Area'] != 0]\n",
    "    df = df.merge(com_df, how='left', on='Community Area')\n",
    "\n",
    "    df.drop(['Block'], axis=1, inplace=True)\n",
    "    df.drop(['Description'], axis=1, inplace=True)\n",
    "    df.drop(['Location Description'], axis=1, inplace=True)\n",
    "    df.drop(['Updated On'], axis=1, inplace=True)\n",
    "    df.drop(['Location'], axis=1, inplace=True)\n",
    "    df.drop(['COMMUNITY AREA NAME'], axis=1, inplace=True)\n",
    "    df.drop(['Year'], axis=1, inplace=True)\n",
    "    \n",
    "    return df"
   ]
  },
  {
   "cell_type": "code",
   "execution_count": 3,
   "id": "0d3e51fc",
   "metadata": {},
   "outputs": [
    {
     "name": "stdout",
     "output_type": "stream",
     "text": [
      "C:\\Users\\ajshe\\Documents\\year4\\fall-2021\\stat451\\CrimeAnalysisML\\data\\cleaned_data.zip\n",
      "downloading: data/2010/data_2010.csv ...\n",
      "done.\n",
      "build DataFrame ...\n"
     ]
    }
   ],
   "source": [
    "master_data = create_master_df()"
   ]
  },
  {
   "cell_type": "code",
   "execution_count": 4,
   "id": "e860519c",
   "metadata": {},
   "outputs": [
    {
     "data": {
      "text/html": [
       "<div>\n",
       "<style scoped>\n",
       "    .dataframe tbody tr th:only-of-type {\n",
       "        vertical-align: middle;\n",
       "    }\n",
       "\n",
       "    .dataframe tbody tr th {\n",
       "        vertical-align: top;\n",
       "    }\n",
       "\n",
       "    .dataframe thead th {\n",
       "        text-align: right;\n",
       "    }\n",
       "</style>\n",
       "<table border=\"1\" class=\"dataframe\">\n",
       "  <thead>\n",
       "    <tr style=\"text-align: right;\">\n",
       "      <th></th>\n",
       "      <th>Arrest</th>\n",
       "      <th>Domestic</th>\n",
       "      <th>Beat</th>\n",
       "      <th>District</th>\n",
       "      <th>Ward</th>\n",
       "      <th>Community Area</th>\n",
       "      <th>X Coordinate</th>\n",
       "      <th>Y Coordinate</th>\n",
       "      <th>Latitude</th>\n",
       "      <th>Longitude</th>\n",
       "      <th>...</th>\n",
       "      <th>Radius</th>\n",
       "      <th>Angle</th>\n",
       "      <th>Type</th>\n",
       "      <th>PERCENT OF HOUSING CROWDED</th>\n",
       "      <th>PERCENT HOUSEHOLDS BELOW POVERTY</th>\n",
       "      <th>PERCENT AGED 16+ UNEMPLOYED</th>\n",
       "      <th>PERCENT AGED 25+ WITHOUT HIGH SCHOOL DIPLOMA</th>\n",
       "      <th>PERCENT AGED UNDER 18 OR OVER 64</th>\n",
       "      <th>PER CAPITA INCOME</th>\n",
       "      <th>HARDSHIP INDEX</th>\n",
       "    </tr>\n",
       "  </thead>\n",
       "  <tbody>\n",
       "    <tr>\n",
       "      <th>0</th>\n",
       "      <td>0</td>\n",
       "      <td>0</td>\n",
       "      <td>323</td>\n",
       "      <td>3.0</td>\n",
       "      <td>6.0</td>\n",
       "      <td>69.0</td>\n",
       "      <td>1183191.0</td>\n",
       "      <td>1855830.0</td>\n",
       "      <td>41.759594</td>\n",
       "      <td>-87.604169</td>\n",
       "      <td>...</td>\n",
       "      <td>97.048205</td>\n",
       "      <td>2.696770</td>\n",
       "      <td>9</td>\n",
       "      <td>3.6</td>\n",
       "      <td>29.6</td>\n",
       "      <td>23.0</td>\n",
       "      <td>16.5</td>\n",
       "      <td>41.0</td>\n",
       "      <td>17285</td>\n",
       "      <td>66.0</td>\n",
       "    </tr>\n",
       "    <tr>\n",
       "      <th>1</th>\n",
       "      <td>1</td>\n",
       "      <td>0</td>\n",
       "      <td>924</td>\n",
       "      <td>9.0</td>\n",
       "      <td>12.0</td>\n",
       "      <td>61.0</td>\n",
       "      <td>1161779.0</td>\n",
       "      <td>1875003.0</td>\n",
       "      <td>41.812678</td>\n",
       "      <td>-87.682112</td>\n",
       "      <td>...</td>\n",
       "      <td>97.141406</td>\n",
       "      <td>2.696622</td>\n",
       "      <td>23</td>\n",
       "      <td>11.9</td>\n",
       "      <td>29.0</td>\n",
       "      <td>23.0</td>\n",
       "      <td>41.5</td>\n",
       "      <td>38.9</td>\n",
       "      <td>12765</td>\n",
       "      <td>91.0</td>\n",
       "    </tr>\n",
       "    <tr>\n",
       "      <th>2</th>\n",
       "      <td>1</td>\n",
       "      <td>0</td>\n",
       "      <td>1124</td>\n",
       "      <td>11.0</td>\n",
       "      <td>2.0</td>\n",
       "      <td>27.0</td>\n",
       "      <td>1156795.0</td>\n",
       "      <td>1899213.0</td>\n",
       "      <td>41.879216</td>\n",
       "      <td>-87.699738</td>\n",
       "      <td>...</td>\n",
       "      <td>97.185970</td>\n",
       "      <td>2.696082</td>\n",
       "      <td>18</td>\n",
       "      <td>8.2</td>\n",
       "      <td>42.4</td>\n",
       "      <td>19.6</td>\n",
       "      <td>21.3</td>\n",
       "      <td>43.2</td>\n",
       "      <td>12961</td>\n",
       "      <td>83.0</td>\n",
       "    </tr>\n",
       "    <tr>\n",
       "      <th>3</th>\n",
       "      <td>0</td>\n",
       "      <td>0</td>\n",
       "      <td>1834</td>\n",
       "      <td>18.0</td>\n",
       "      <td>42.0</td>\n",
       "      <td>8.0</td>\n",
       "      <td>1177342.0</td>\n",
       "      <td>1903838.0</td>\n",
       "      <td>41.891466</td>\n",
       "      <td>-87.624153</td>\n",
       "      <td>...</td>\n",
       "      <td>97.123051</td>\n",
       "      <td>2.695633</td>\n",
       "      <td>9</td>\n",
       "      <td>1.9</td>\n",
       "      <td>12.9</td>\n",
       "      <td>7.0</td>\n",
       "      <td>2.5</td>\n",
       "      <td>22.6</td>\n",
       "      <td>88669</td>\n",
       "      <td>1.0</td>\n",
       "    </tr>\n",
       "    <tr>\n",
       "      <th>4</th>\n",
       "      <td>1</td>\n",
       "      <td>0</td>\n",
       "      <td>1112</td>\n",
       "      <td>11.0</td>\n",
       "      <td>27.0</td>\n",
       "      <td>23.0</td>\n",
       "      <td>1150571.0</td>\n",
       "      <td>1905280.0</td>\n",
       "      <td>41.895988</td>\n",
       "      <td>-87.722433</td>\n",
       "      <td>...</td>\n",
       "      <td>97.213677</td>\n",
       "      <td>2.696027</td>\n",
       "      <td>18</td>\n",
       "      <td>14.8</td>\n",
       "      <td>33.9</td>\n",
       "      <td>17.3</td>\n",
       "      <td>35.4</td>\n",
       "      <td>38.0</td>\n",
       "      <td>13781</td>\n",
       "      <td>85.0</td>\n",
       "    </tr>\n",
       "  </tbody>\n",
       "</table>\n",
       "<p>5 rows × 40 columns</p>\n",
       "</div>"
      ],
      "text/plain": [
       "   Arrest  Domestic  Beat  District  Ward  Community Area  X Coordinate  \\\n",
       "0       0         0   323       3.0   6.0            69.0     1183191.0   \n",
       "1       1         0   924       9.0  12.0            61.0     1161779.0   \n",
       "2       1         0  1124      11.0   2.0            27.0     1156795.0   \n",
       "3       0         0  1834      18.0  42.0             8.0     1177342.0   \n",
       "4       1         0  1112      11.0  27.0            23.0     1150571.0   \n",
       "\n",
       "   Y Coordinate   Latitude  Longitude  ...     Radius     Angle  Type  \\\n",
       "0     1855830.0  41.759594 -87.604169  ...  97.048205  2.696770     9   \n",
       "1     1875003.0  41.812678 -87.682112  ...  97.141406  2.696622    23   \n",
       "2     1899213.0  41.879216 -87.699738  ...  97.185970  2.696082    18   \n",
       "3     1903838.0  41.891466 -87.624153  ...  97.123051  2.695633     9   \n",
       "4     1905280.0  41.895988 -87.722433  ...  97.213677  2.696027    18   \n",
       "\n",
       "   PERCENT OF HOUSING CROWDED  PERCENT HOUSEHOLDS BELOW POVERTY  \\\n",
       "0                         3.6                              29.6   \n",
       "1                        11.9                              29.0   \n",
       "2                         8.2                              42.4   \n",
       "3                         1.9                              12.9   \n",
       "4                        14.8                              33.9   \n",
       "\n",
       "   PERCENT AGED 16+ UNEMPLOYED  PERCENT AGED 25+ WITHOUT HIGH SCHOOL DIPLOMA  \\\n",
       "0                         23.0                                          16.5   \n",
       "1                         23.0                                          41.5   \n",
       "2                         19.6                                          21.3   \n",
       "3                          7.0                                           2.5   \n",
       "4                         17.3                                          35.4   \n",
       "\n",
       "   PERCENT AGED UNDER 18 OR OVER 64  PER CAPITA INCOME   HARDSHIP INDEX  \n",
       "0                              41.0               17285            66.0  \n",
       "1                              38.9               12765            91.0  \n",
       "2                              43.2               12961            83.0  \n",
       "3                              22.6               88669             1.0  \n",
       "4                              38.0               13781            85.0  \n",
       "\n",
       "[5 rows x 40 columns]"
      ]
     },
     "execution_count": 4,
     "metadata": {},
     "output_type": "execute_result"
    }
   ],
   "source": [
    "master_data.head()"
   ]
  },
  {
   "cell_type": "code",
   "execution_count": 5,
   "id": "cd58a363",
   "metadata": {},
   "outputs": [
    {
     "name": "stdout",
     "output_type": "stream",
     "text": [
      "<class 'pandas.core.frame.DataFrame'>\n",
      "Int64Index: 369793 entries, 0 to 369792\n",
      "Data columns (total 40 columns):\n",
      " #   Column                                        Non-Null Count   Dtype  \n",
      "---  ------                                        --------------   -----  \n",
      " 0   Arrest                                        369793 non-null  int64  \n",
      " 1   Domestic                                      369793 non-null  int64  \n",
      " 2   Beat                                          369793 non-null  int64  \n",
      " 3   District                                      369793 non-null  float64\n",
      " 4   Ward                                          369793 non-null  float64\n",
      " 5   Community Area                                369793 non-null  float64\n",
      " 6   X Coordinate                                  369793 non-null  float64\n",
      " 7   Y Coordinate                                  369793 non-null  float64\n",
      " 8   Latitude                                      369793 non-null  float64\n",
      " 9   Longitude                                     369793 non-null  float64\n",
      " 10  Month                                         369793 non-null  int64  \n",
      " 11  dayOfWeek                                     369793 non-null  int64  \n",
      " 12  dayOfMonth                                    369793 non-null  int64  \n",
      " 13  dayOfYear                                     369793 non-null  int64  \n",
      " 14  weekOfMonth                                   369793 non-null  int64  \n",
      " 15  weekOfYear                                    369793 non-null  int64  \n",
      " 16  Hour                                          369793 non-null  int64  \n",
      " 17  Day                                           369793 non-null  int64  \n",
      " 18  Minute                                        369793 non-null  int64  \n",
      " 19  Holiday                                       369793 non-null  int64  \n",
      " 20  BusinessHour                                  369793 non-null  int64  \n",
      " 21  Season                                        369793 non-null  int64  \n",
      " 22  Weekend                                       369793 non-null  int64  \n",
      " 23  Cluster                                       369793 non-null  int64  \n",
      " 24  Rot30_X                                       369793 non-null  float64\n",
      " 25  Rot30_Y                                       369793 non-null  float64\n",
      " 26  Rot45_X                                       369793 non-null  float64\n",
      " 27  Rot45_Y                                       369793 non-null  float64\n",
      " 28  Rot60_X                                       369793 non-null  float64\n",
      " 29  Rot60_Y                                       369793 non-null  float64\n",
      " 30  Radius                                        369793 non-null  float64\n",
      " 31  Angle                                         369793 non-null  float64\n",
      " 32  Type                                          369793 non-null  int64  \n",
      " 33  PERCENT OF HOUSING CROWDED                    369793 non-null  float64\n",
      " 34  PERCENT HOUSEHOLDS BELOW POVERTY              369793 non-null  float64\n",
      " 35  PERCENT AGED 16+ UNEMPLOYED                   369793 non-null  float64\n",
      " 36  PERCENT AGED 25+ WITHOUT HIGH SCHOOL DIPLOMA  369793 non-null  float64\n",
      " 37  PERCENT AGED UNDER 18 OR OVER 64              369793 non-null  float64\n",
      " 38  PER CAPITA INCOME                             369793 non-null  int64  \n",
      " 39  HARDSHIP INDEX                                369793 non-null  float64\n",
      "dtypes: float64(21), int64(19)\n",
      "memory usage: 115.7 MB\n"
     ]
    }
   ],
   "source": [
    "master_data.info()"
   ]
  },
  {
   "cell_type": "markdown",
   "id": "cb8583be",
   "metadata": {},
   "source": [
    "## Refactor feature columns"
   ]
  },
  {
   "cell_type": "code",
   "execution_count": 6,
   "id": "838fb603",
   "metadata": {},
   "outputs": [],
   "source": [
    "def one_hot_encode(train_data, categories):\n",
    "    encoded_df = train_data\n",
    "    for cat in categories:\n",
    "        encoded_df = pd.concat([encoded_df, \n",
    "                                    pd.get_dummies(pd.Series(encoded_df[cat]), prefix=cat)], axis=1)\n",
    "    encoded_df = encoded_df.drop(categories, axis=1)\n",
    "    \n",
    "    return encoded_df"
   ]
  },
  {
   "cell_type": "markdown",
   "id": "51f69945",
   "metadata": {},
   "source": [
    "### One hot encode all features"
   ]
  },
  {
   "cell_type": "code",
   "execution_count": 8,
   "id": "d2e1d779",
   "metadata": {},
   "outputs": [
    {
     "data": {
      "text/plain": [
       "(369793, 1109)"
      ]
     },
     "execution_count": 8,
     "metadata": {},
     "output_type": "execute_result"
    }
   ],
   "source": [
    "feature_cols = ['Beat', 'District', 'Ward', 'Community Area', 'Month', 'dayOfWeek',\n",
    "               'dayOfYear', 'weekOfMonth', 'weekOfYear', 'Hour', 'Day', 'Minute', 'Holiday',\n",
    "                'Season', 'Cluster', 'Type']\n",
    "\n",
    "one_hot = one_hot_encode(master_data, feature_cols)\n",
    "one_hot.shape"
   ]
  },
  {
   "cell_type": "markdown",
   "id": "a49a9285",
   "metadata": {},
   "source": [
    "### Create sample of dataset"
   ]
  },
  {
   "cell_type": "code",
   "execution_count": 12,
   "id": "cb9b1002",
   "metadata": {},
   "outputs": [
    {
     "data": {
      "text/plain": [
       "(36979, 1109)"
      ]
     },
     "execution_count": 12,
     "metadata": {},
     "output_type": "execute_result"
    }
   ],
   "source": [
    "sample = one_hot.sample(frac=0.1, random_state=123)\n",
    "sample.shape"
   ]
  },
  {
   "cell_type": "markdown",
   "id": "3ae8c2a9",
   "metadata": {},
   "source": [
    "## Generate training and test sets"
   ]
  },
  {
   "cell_type": "code",
   "execution_count": 9,
   "id": "82b6f60e",
   "metadata": {},
   "outputs": [
    {
     "name": "stdout",
     "output_type": "stream",
     "text": [
      "Train/Valid/Test sizes: 62124 15532 33282\n",
      "X_train.shape: (62124, 1108)\n",
      "y_train.shape: (62124,)\n",
      "X_test.shape: (33282, 1108)\n",
      "y_test.shape: (33282,)\n"
     ]
    }
   ],
   "source": [
    "X, y = sample.drop('Arrest', axis=1).copy(), sample['Arrest']\n",
    "\n",
    "X_temp, X_test, y_temp, y_test = train_test_split(X, y, \n",
    "                                                    test_size=0.3,\n",
    "                                                    random_state=123,\n",
    "                                                    shuffle=True,\n",
    "                                                   stratify=y)\n",
    "\n",
    "\n",
    "X_train, X_valid, y_train, y_valid = \\\n",
    "    train_test_split(X_temp, y_temp, test_size=0.2, random_state=1, stratify=y_temp)\n",
    "print('Train/Valid/Test sizes:', y_train.shape[0], y_valid.shape[0], y_test.shape[0])\n",
    "\n",
    "print(f'X_train.shape: {X_train.shape}')\n",
    "print(f'y_train.shape: {y_train.shape}')\n",
    "print(f'X_test.shape: {X_test.shape}')\n",
    "print(f'y_test.shape: {y_test.shape}')"
   ]
  },
  {
   "cell_type": "markdown",
   "id": "d437f62e",
   "metadata": {},
   "source": [
    "## Baseline models"
   ]
  },
  {
   "cell_type": "code",
   "execution_count": 10,
   "id": "537373df",
   "metadata": {
    "tags": []
   },
   "outputs": [
    {
     "name": "stdout",
     "output_type": "stream",
     "text": [
      "Train Accuracy: 79.646%\n",
      "Valid Accuracy: 71.330%\n",
      "Test Accuracy: 0.718\n"
     ]
    }
   ],
   "source": [
    "knn = KNeighborsClassifier(n_neighbors=5)\n",
    "knn.fit(X_train.values, y_train.values)\n",
    "print(f\"Train Accuracy: {knn.score(X_train.values, y_train.values)*100:0.3f}%\")\n",
    "print(f\"Valid Accuracy: {knn.score(X_valid.values, y_valid.values)*100:0.3f}%\")\n",
    "print(\"Test Accuracy: %0.3f\" % knn.score(X_test.values, y_test.values))\n",
    "\n",
    "y_pred = knn.predict(X_test.values)"
   ]
  },
  {
   "cell_type": "code",
   "execution_count": 11,
   "id": "1e61b119",
   "metadata": {},
   "outputs": [
    {
     "data": {
      "text/plain": [
       "<sklearn.metrics._plot.confusion_matrix.ConfusionMatrixDisplay at 0x28b3a1cc430>"
      ]
     },
     "execution_count": 11,
     "metadata": {},
     "output_type": "execute_result"
    },
    {
     "data": {
      "image/png": "[encoded data removed]",
      "text/plain": [
       "<Figure size 432x288 with 2 Axes>"
      ]
     },
     "metadata": {
      "needs_background": "light"
     },
     "output_type": "display_data"
    }
   ],
   "source": [
    "ConfusionMatrixDisplay.from_predictions(y_test, y_pred)"
   ]
  },
  {
   "cell_type": "code",
   "execution_count": 12,
   "id": "54cad5a0",
   "metadata": {},
   "outputs": [
    {
     "name": "stdout",
     "output_type": "stream",
     "text": [
      "KNN Validation Log Loss:  9.748806759944967\n",
      "KNN Precision Score    :  0.4671286124725368\n"
     ]
    }
   ],
   "source": [
    "knn_loss = log_loss(y_test, y_pred)\n",
    "pr_score = precision_score(y_test, y_pred)\n",
    "print('KNN Validation Log Loss: ', knn_loss)\n",
    "print('KNN Precision Score    : ', pr_score)"
   ]
  },
  {
   "cell_type": "markdown",
   "id": "3a0b9ba5",
   "metadata": {},
   "source": [
    "### Analyze X and y datasets for imbalance "
   ]
  },
  {
   "cell_type": "code",
   "execution_count": 10,
   "id": "a2cd7036",
   "metadata": {},
   "outputs": [],
   "source": [
    "from imblearn.over_sampling import RandomOverSampler\n",
    "from imblearn.over_sampling import SMOTE"
   ]
  },
  {
   "cell_type": "code",
   "execution_count": 14,
   "id": "03f46725",
   "metadata": {},
   "outputs": [
    {
     "data": {
      "text/plain": [
       "0    80923\n",
       "1    30015\n",
       "Name: Arrest, dtype: int64"
      ]
     },
     "execution_count": 14,
     "metadata": {},
     "output_type": "execute_result"
    }
   ],
   "source": [
    "sample['Arrest'].value_counts()"
   ]
  },
  {
   "cell_type": "markdown",
   "id": "7e048bfd",
   "metadata": {
    "tags": []
   },
   "source": [
    "There is an imbalance of class labels in our data set.\n",
    "- accuracy of just selecting non-arrest = 0.729"
   ]
  },
  {
   "cell_type": "markdown",
   "id": "a07ec71b",
   "metadata": {},
   "source": [
    "### rebuild train and test"
   ]
  },
  {
   "cell_type": "code",
   "execution_count": 15,
   "id": "de702cf3",
   "metadata": {},
   "outputs": [
    {
     "name": "stdout",
     "output_type": "stream",
     "text": [
      "Train/Valid/Test sizes: 90633 22659 48554\n",
      "X_train.shape: (90633, 1108)\n",
      "y_train.shape: (90633,)\n",
      "X_test.shape: (48554, 1108)\n",
      "y_test.shape: (48554,)\n"
     ]
    }
   ],
   "source": [
    "sample = one_hot.sample(frac=0.3, random_state=123)\n",
    "\n",
    "X, y = sample.drop(\"Arrest\", axis=1).copy(), sample['Arrest']\n",
    "\n",
    "smote = SMOTE(random_state=0)\n",
    "X_resampled, y_resampled = smote.fit_resample(X, y)\n",
    "\n",
    "X_temp, X_test, y_temp, y_test = train_test_split(X_resampled, y_resampled, \n",
    "                                                    test_size=0.3,\n",
    "                                                    random_state=123,\n",
    "                                                    shuffle=True,\n",
    "                                                   stratify=y_resampled)\n",
    "\n",
    "\n",
    "X_train, X_valid, y_train, y_valid = \\\n",
    "    train_test_split(X_temp, y_temp, test_size=0.2, random_state=1, stratify=y_temp)\n",
    "print('Train/Valid/Test sizes:', y_train.shape[0], y_valid.shape[0], y_test.shape[0])\n",
    "\n",
    "print(f'X_train.shape: {X_train.shape}')\n",
    "print(f'y_train.shape: {y_train.shape}')\n",
    "print(f'X_test.shape: {X_test.shape}')\n",
    "print(f'y_test.shape: {y_test.shape}')"
   ]
  },
  {
   "cell_type": "code",
   "execution_count": 16,
   "id": "5b0b37ef",
   "metadata": {},
   "outputs": [
    {
     "name": "stdout",
     "output_type": "stream",
     "text": [
      "Train Accuracy: 79.013%\n",
      "Valid Accuracy: 68.158%\n",
      "Test Accuracy : 68.128%\n",
      "KNN Validation Log Loss:  11.008249791760917\n",
      "KNN Precision Score    :  0.6673384030418251\n"
     ]
    },
    {
     "data": {
      "image/png": "[encoded data removed]",
      "text/plain": [
       "<Figure size 432x288 with 2 Axes>"
      ]
     },
     "metadata": {
      "needs_background": "light"
     },
     "output_type": "display_data"
    }
   ],
   "source": [
    "knn = KNeighborsClassifier(n_neighbors=5)\n",
    "knn.fit(X_train.values, y_train.values)\n",
    "print(f\"Train Accuracy: {knn.score(X_train.values, y_train.values)*100:0.3f}%\")\n",
    "print(f\"Valid Accuracy: {knn.score(X_valid.values, y_valid.values)*100:0.3f}%\")\n",
    "print(f\"Test Accuracy : {knn.score(X_test.values, y_test.values)*100:0.3f}%\")\n",
    "\n",
    "y_pred = knn.predict(X_test.values)\n",
    "ConfusionMatrixDisplay.from_predictions(y_test, y_pred)\n",
    "\n",
    "knn_loss = log_loss(y_test, y_pred)\n",
    "pr_score = precision_score(y_test, y_pred)\n",
    "print('KNN Validation Log Loss: ', knn_loss)\n",
    "print('KNN Precision Score    : ', pr_score)"
   ]
  },
  {
   "cell_type": "markdown",
   "id": "0b73edac",
   "metadata": {},
   "source": [
    "### let's try 10 neighbors"
   ]
  },
  {
   "cell_type": "code",
   "execution_count": 17,
   "id": "e12b4c7b",
   "metadata": {},
   "outputs": [
    {
     "name": "stdout",
     "output_type": "stream",
     "text": [
      "Train Accuracy: 73.810%\n",
      "Valid Accuracy: 66.883%\n",
      "Test Accuracy : 67.026%\n",
      "KNN Validation Log Loss:  11.388806139949878\n",
      "KNN Precision Score    :  0.6723512488012342\n"
     ]
    },
    {
     "data": {
      "image/png": "[encoded data removed]",
      "text/plain": [
       "<Figure size 432x288 with 2 Axes>"
      ]
     },
     "metadata": {
      "needs_background": "light"
     },
     "output_type": "display_data"
    }
   ],
   "source": [
    "knn = KNeighborsClassifier(n_neighbors=5)\n",
    "knn.fit(X_train.values, y_train.values)\n",
    "print(f\"Train Accuracy: {knn.score(X_train.values, y_train.values)*100:0.3f}%\")\n",
    "print(f\"Valid Accuracy: {knn.score(X_valid.values, y_valid.values)*100:0.3f}%\")\n",
    "print(f\"Test Accuracy : {knn.score(X_test.values, y_test.values)*100:0.3f}%\")\n",
    "\n",
    "y_pred = knn.predict(X_test.values)\n",
    "ConfusionMatrixDisplay.from_predictions(y_test, y_pred)\n",
    "\n",
    "knn_loss = log_loss(y_test, y_pred)\n",
    "pr_score = precision_score(y_test, y_pred)\n",
    "print('KNN Validation Log Loss: ', knn_loss)\n",
    "print('KNN Precision Score    : ', pr_score)"
   ]
  },
  {
   "cell_type": "code",
   "execution_count": 18,
   "id": "f625010b",
   "metadata": {},
   "outputs": [
    {
     "data": {
      "image/png": "[encoded data removed]",
      "text/plain": [
       "<Figure size 432x288 with 1 Axes>"
      ]
     },
     "metadata": {
      "needs_background": "light"
     },
     "output_type": "display_data"
    }
   ],
   "source": [
    "model = ExtraTreesClassifier()\n",
    "data_sample = sample.drop('Arrest', axis=1).copy()\n",
    "\n",
    "model.fit(data_sample, sample['Arrest'])\n",
    "\n",
    "feat_importances = pd.Series(model.feature_importances_, index=data_sample.columns)\n",
    "\n",
    "feat_importances.nlargest(10).plot(kind='barh')\n",
    "plt.show()"
   ]
  },
  {
   "cell_type": "code",
   "execution_count": 19,
   "id": "da9989bf",
   "metadata": {},
   "outputs": [
    {
     "data": {
      "text/plain": [
       "<AxesSubplot:>"
      ]
     },
     "execution_count": 19,
     "metadata": {},
     "output_type": "execute_result"
    },
    {
     "data": {
      "image/png": "[encoded data removed]",
      "text/plain": [
       "<Figure size 432x288 with 1 Axes>"
      ]
     },
     "metadata": {
      "needs_background": "light"
     },
     "output_type": "display_data"
    }
   ],
   "source": [
    "feat_importances.nlargest(15).plot(kind='barh')"
   ]
  },
  {
   "cell_type": "markdown",
   "id": "a323db57",
   "metadata": {
    "tags": []
   },
   "source": [
    "# Hyper param tuning"
   ]
  },
  {
   "cell_type": "code",
   "execution_count": 63,
   "id": "3f1b95b0",
   "metadata": {},
   "outputs": [],
   "source": [
    "from hyperopt import Trials, STATUS_OK, tpe, hp, fmin\n",
    "import hyperopt.pyll.stochastic\n",
    "from sklearn.model_selection import StratifiedKFold\n",
    "import numpy as np\n",
    "import optuna"
   ]
  },
  {
   "cell_type": "code",
   "execution_count": 24,
   "id": "2e4b73de",
   "metadata": {},
   "outputs": [],
   "source": [
    "def optimization_objective(trial, X_train, y_train, cv=5):\n",
    "\n",
    "    \n",
    "    params =  {\n",
    "            \"n_estimators\": trial.suggest_categorical(\"n_estimators\", [30, 50, 100, 300]),\n",
    "            \"learning_rate\": trial.suggest_categorical(\"learning_rate\", [0.01]),\n",
    "            \"lambda\": trial.suggest_loguniform(\"lambda\", 1e-8, 1.0),\n",
    "            \"alpha\": trial.suggest_loguniform(\"alpha\", 1e-8, 1.0),\n",
    "    }\n",
    "    \n",
    "\n",
    "    cv_iterator = StratifiedKFold(n_splits=cv, shuffle=True, random_state=123)\n",
    "\n",
    "    cv_scores = np.zeros(cv)\n",
    "    for idx, (train_sub_idx, valid_idx) in enumerate(cv_iterator.split(X_train, y_train)):\n",
    "        \n",
    "        X_train_sub, X_valid = X_train[train_sub_idx], X_train[valid_idx]\n",
    "        y_train_sub, y_valid = y_train[train_sub_idx], y_train[valid_idx]\n",
    "        \n",
    "\n",
    "        model = XGBClassifier(**params, random_state=123, use_label_encoder=False)\n",
    "        \n",
    "        model.fit(\n",
    "            X_train_sub,\n",
    "            y_train_sub,\n",
    "            verbose=False,\n",
    "            eval_set=[(X_valid, y_valid)],\n",
    "            eval_metric=\"auc\",\n",
    "            early_stopping_rounds=100,\n",
    "        )\n",
    "        \n",
    "        preds = model.score(X_valid, y_valid)\n",
    "        \n",
    "        cv_scores[idx] = preds\n",
    "\n",
    "    return np.mean(cv_scores)"
   ]
  },
  {
   "cell_type": "code",
   "execution_count": null,
   "id": "4c49b8d7",
   "metadata": {},
   "outputs": [],
   "source": [
    "study = optuna.create_study(direction=\"maximize\", study_name=\"XGBoost Classifier\")\n",
    "\n",
    "def func(trial):\n",
    "    return optimization_objective(trial, X_train.values, y_train.values)\n",
    "\n",
    "study.optimize(func, n_trials=25);"
   ]
  },
  {
   "cell_type": "code",
   "execution_count": null,
   "id": "5b769578",
   "metadata": {},
   "outputs": [],
   "source": [
    "print(f\"Best CV accuracy: {study.best_value:.5f}\")\n",
    "print(\"Best params:\")\n",
    "\n",
    "for key, value in study.best_params.items():\n",
    "    print(f\"\\t{key}: {value}\")"
   ]
  },
  {
   "cell_type": "code",
   "execution_count": null,
   "id": "3b101d3b",
   "metadata": {},
   "outputs": [],
   "source": [
    "model = XGBClassifier(**study.best_params, random_state=123, use_label_encoder=False)\n",
    "model.fit(\n",
    "    X_train,\n",
    "    y_train,\n",
    "    verbose=False,\n",
    "    eval_set=[(X_valid, y_valid)],\n",
    "    eval_metric=\"auc\",\n",
    "    early_stopping_rounds=100,\n",
    ")"
   ]
  },
  {
   "cell_type": "code",
   "execution_count": null,
   "id": "270008dc",
   "metadata": {},
   "outputs": [],
   "source": [
    "print(f\"Training Accuracy: {model.score(X_train, y_train):0.3f}\")\n",
    "print(f\"Test Accuracy: {model.score(X_test, y_test):0.3f}\")"
   ]
  },
  {
   "cell_type": "code",
   "execution_count": null,
   "id": "31814cb4",
   "metadata": {},
   "outputs": [],
   "source": [
    "# {'n_estimators': 300, 'learning_rate': 0.01, 'lambda': 0.008794681428319863, 'alpha': 1.6370420793053065e-08}"
   ]
  },
  {
   "cell_type": "code",
   "execution_count": null,
   "id": "7eb0b6df",
   "metadata": {},
   "outputs": [],
   "source": [
    "print(f\"Best CV accuracy: {study.best_value:.5f}\")\n",
    "print(\"Best params:\")\n",
    "best_params = {'n_estimators': 300, 'learning_rate': 0.01, 'lambda': 0.008794681428319863, 'alpha': 1.6370420793053065e-08}\n",
    "\n",
    "model = XGBClassifier(**best_params, random_state=123, use_label_encoder=False)\n",
    "model.fit(\n",
    "    X_train,\n",
    "    y_train,\n",
    "    verbose=False,\n",
    "    eval_set=[(X_valid, y_valid)],\n",
    "    eval_metric=\"auc\",\n",
    "    early_stopping_rounds=100,\n",
    ")"
   ]
  },
  {
   "cell_type": "markdown",
   "id": "b98a2755-8a88-4a87-9682-7e0c59036ef3",
   "metadata": {},
   "source": [
    "# Exploratory Analysis"
   ]
  },
  {
   "cell_type": "code",
   "execution_count": 19,
   "id": "4f789df3",
   "metadata": {},
   "outputs": [
    {
     "name": "stdout",
     "output_type": "stream",
     "text": [
      "<class 'pandas.core.frame.DataFrame'>\n",
      "Int64Index: 369793 entries, 0 to 369792\n",
      "Data columns (total 40 columns):\n",
      " #   Column                                        Non-Null Count   Dtype  \n",
      "---  ------                                        --------------   -----  \n",
      " 0   Arrest                                        369793 non-null  int64  \n",
      " 1   Domestic                                      369793 non-null  int64  \n",
      " 2   Beat                                          369793 non-null  int64  \n",
      " 3   District                                      369793 non-null  float64\n",
      " 4   Ward                                          369793 non-null  float64\n",
      " 5   Community Area                                369793 non-null  float64\n",
      " 6   X Coordinate                                  369793 non-null  float64\n",
      " 7   Y Coordinate                                  369793 non-null  float64\n",
      " 8   Latitude                                      369793 non-null  float64\n",
      " 9   Longitude                                     369793 non-null  float64\n",
      " 10  Month                                         369793 non-null  int64  \n",
      " 11  dayOfWeek                                     369793 non-null  int64  \n",
      " 12  dayOfMonth                                    369793 non-null  int64  \n",
      " 13  dayOfYear                                     369793 non-null  int64  \n",
      " 14  weekOfMonth                                   369793 non-null  int64  \n",
      " 15  weekOfYear                                    369793 non-null  int64  \n",
      " 16  Hour                                          369793 non-null  int64  \n",
      " 17  Day                                           369793 non-null  int64  \n",
      " 18  Minute                                        369793 non-null  int64  \n",
      " 19  Holiday                                       369793 non-null  int64  \n",
      " 20  BusinessHour                                  369793 non-null  int64  \n",
      " 21  Season                                        369793 non-null  int64  \n",
      " 22  Weekend                                       369793 non-null  int64  \n",
      " 23  Cluster                                       369793 non-null  int64  \n",
      " 24  Rot30_X                                       369793 non-null  float64\n",
      " 25  Rot30_Y                                       369793 non-null  float64\n",
      " 26  Rot45_X                                       369793 non-null  float64\n",
      " 27  Rot45_Y                                       369793 non-null  float64\n",
      " 28  Rot60_X                                       369793 non-null  float64\n",
      " 29  Rot60_Y                                       369793 non-null  float64\n",
      " 30  Radius                                        369793 non-null  float64\n",
      " 31  Angle                                         369793 non-null  float64\n",
      " 32  Type                                          369793 non-null  int64  \n",
      " 33  PERCENT OF HOUSING CROWDED                    369793 non-null  float64\n",
      " 34  PERCENT HOUSEHOLDS BELOW POVERTY              369793 non-null  float64\n",
      " 35  PERCENT AGED 16+ UNEMPLOYED                   369793 non-null  float64\n",
      " 36  PERCENT AGED 25+ WITHOUT HIGH SCHOOL DIPLOMA  369793 non-null  float64\n",
      " 37  PERCENT AGED UNDER 18 OR OVER 64              369793 non-null  float64\n",
      " 38  PER CAPITA INCOME                             369793 non-null  int64  \n",
      " 39  HARDSHIP INDEX                                369793 non-null  float64\n",
      "dtypes: float64(21), int64(19)\n",
      "memory usage: 115.7 MB\n"
     ]
    }
   ],
   "source": [
    "master_data.info()"
   ]
  },
  {
   "cell_type": "code",
   "execution_count": 41,
   "id": "3b4018ad-2d0a-46d4-8ba8-fcc1f3b89bba",
   "metadata": {},
   "outputs": [
    {
     "data": {
      "text/html": [
       "<div>\n",
       "<style scoped>\n",
       "    .dataframe tbody tr th:only-of-type {\n",
       "        vertical-align: middle;\n",
       "    }\n",
       "\n",
       "    .dataframe tbody tr th {\n",
       "        vertical-align: top;\n",
       "    }\n",
       "\n",
       "    .dataframe thead th {\n",
       "        text-align: right;\n",
       "    }\n",
       "</style>\n",
       "<table border=\"1\" class=\"dataframe\">\n",
       "  <thead>\n",
       "    <tr style=\"text-align: right;\">\n",
       "      <th></th>\n",
       "      <th>Community Area</th>\n",
       "      <th>Arrest</th>\n",
       "    </tr>\n",
       "  </thead>\n",
       "  <tbody>\n",
       "    <tr>\n",
       "      <th>0</th>\n",
       "      <td>69.0</td>\n",
       "      <td>0</td>\n",
       "    </tr>\n",
       "    <tr>\n",
       "      <th>1</th>\n",
       "      <td>61.0</td>\n",
       "      <td>1</td>\n",
       "    </tr>\n",
       "    <tr>\n",
       "      <th>2</th>\n",
       "      <td>27.0</td>\n",
       "      <td>1</td>\n",
       "    </tr>\n",
       "    <tr>\n",
       "      <th>3</th>\n",
       "      <td>8.0</td>\n",
       "      <td>0</td>\n",
       "    </tr>\n",
       "    <tr>\n",
       "      <th>4</th>\n",
       "      <td>23.0</td>\n",
       "      <td>1</td>\n",
       "    </tr>\n",
       "  </tbody>\n",
       "</table>\n",
       "</div>"
      ],
      "text/plain": [
       "   Community Area  Arrest\n",
       "0            69.0       0\n",
       "1            61.0       1\n",
       "2            27.0       1\n",
       "3             8.0       0\n",
       "4            23.0       1"
      ]
     },
     "execution_count": 41,
     "metadata": {},
     "output_type": "execute_result"
    }
   ],
   "source": [
    "cols = ['Community Area', 'Arrest']\n",
    "com_data = master_data[cols]\n",
    "com_data.head()"
   ]
  },
  {
   "cell_type": "code",
   "execution_count": 42,
   "id": "e50b343c-074d-40b7-8543-5e8810a19cc4",
   "metadata": {},
   "outputs": [
    {
     "data": {
      "text/plain": [
       "(369793, 78)"
      ]
     },
     "execution_count": 42,
     "metadata": {},
     "output_type": "execute_result"
    }
   ],
   "source": [
    "one_hot_com = one_hot_encode(com_data, ['Community Area'])\n",
    "one_hot_com.shape"
   ]
  },
  {
   "cell_type": "code",
   "execution_count": 43,
   "id": "2c2c6d87-fab9-472a-a75c-706024e0fcb0",
   "metadata": {},
   "outputs": [
    {
     "name": "stdout",
     "output_type": "stream",
     "text": [
      "Train/Valid/Test sizes: 90633 22659 48554\n",
      "X_train.shape: (90633, 77)\n",
      "y_train.shape: (90633,)\n",
      "X_test.shape: (48554, 77)\n",
      "y_test.shape: (48554,)\n"
     ]
    }
   ],
   "source": [
    "sample = one_hot_com.sample(frac=0.3, random_state=123)\n",
    "\n",
    "X, y = sample.drop(\"Arrest\", axis=1).copy(), sample['Arrest']\n",
    "\n",
    "smote = SMOTE(random_state=0)\n",
    "X_resampled, y_resampled = smote.fit_resample(X, y)\n",
    "\n",
    "X_temp, X_test, y_temp, y_test = train_test_split(X_resampled, y_resampled, \n",
    "                                                    test_size=0.3,\n",
    "                                                    random_state=123,\n",
    "                                                    shuffle=True,\n",
    "                                                   stratify=y_resampled)\n",
    "\n",
    "\n",
    "X_train, X_valid, y_train, y_valid = \\\n",
    "    train_test_split(X_temp, y_temp, test_size=0.2, random_state=1, stratify=y_temp)\n",
    "print('Train/Valid/Test sizes:', y_train.shape[0], y_valid.shape[0], y_test.shape[0])\n",
    "\n",
    "print(f'X_train.shape: {X_train.shape}')\n",
    "print(f'y_train.shape: {y_train.shape}')\n",
    "print(f'X_test.shape: {X_test.shape}')\n",
    "print(f'y_test.shape: {y_test.shape}')"
   ]
  },
  {
   "cell_type": "code",
   "execution_count": 44,
   "id": "bcce249d-2209-4c4e-93bf-425dd6ac945b",
   "metadata": {},
   "outputs": [
    {
     "name": "stdout",
     "output_type": "stream",
     "text": [
      "Train Accuracy: 54.786%\n",
      "Valid Accuracy: 54.182%\n",
      "Test Accuracy : 54.712%\n",
      "KNN Validation Log Loss:  15.642002376800217\n",
      "KNN Precision Score    :  0.5479222520107239\n"
     ]
    },
    {
     "data": {
      "image/png": "[encoded data removed]",
      "text/plain": [
       "<Figure size 432x288 with 2 Axes>"
      ]
     },
     "metadata": {
      "needs_background": "light"
     },
     "output_type": "display_data"
    }
   ],
   "source": [
    "knn = KNeighborsClassifier(n_neighbors=5)\n",
    "knn.fit(X_train.values, y_train.values)\n",
    "print(f\"Train Accuracy: {knn.score(X_train.values, y_train.values)*100:0.3f}%\")\n",
    "print(f\"Valid Accuracy: {knn.score(X_valid.values, y_valid.values)*100:0.3f}%\")\n",
    "print(f\"Test Accuracy : {knn.score(X_test.values, y_test.values)*100:0.3f}%\")\n",
    "\n",
    "y_pred = knn.predict(X_test.values)\n",
    "ConfusionMatrixDisplay.from_predictions(y_test, y_pred)\n",
    "\n",
    "knn_loss = log_loss(y_test, y_pred)\n",
    "pr_score = precision_score(y_test, y_pred)\n",
    "print('KNN Validation Log Loss: ', knn_loss)\n",
    "print('KNN Precision Score    : ', pr_score)"
   ]
  },
  {
   "cell_type": "code",
   "execution_count": 45,
   "id": "c2d78c85-2d84-49a6-9cf7-4cd5a22e8296",
   "metadata": {},
   "outputs": [
    {
     "data": {
      "image/png": "[encoded data removed]",
      "text/plain": [
       "<Figure size 432x288 with 1 Axes>"
      ]
     },
     "metadata": {
      "needs_background": "light"
     },
     "output_type": "display_data"
    }
   ],
   "source": [
    "model = ExtraTreesClassifier()\n",
    "data_sample = sample.drop('Arrest', axis=1).copy()\n",
    "\n",
    "model.fit(data_sample, sample['Arrest'])\n",
    "\n",
    "feat_importances = pd.Series(model.feature_importances_, index=data_sample.columns)\n",
    "\n",
    "feat_importances.nlargest(10).plot(kind='barh')\n",
    "plt.show()"
   ]
  },
  {
   "cell_type": "code",
   "execution_count": 48,
   "id": "a0def39b-d3ff-4b7b-99b6-41d9cefa6f02",
   "metadata": {},
   "outputs": [
    {
     "data": {
      "text/plain": [
       "{0: 269337, 1: 100456}"
      ]
     },
     "execution_count": 48,
     "metadata": {},
     "output_type": "execute_result"
    }
   ],
   "source": [
    "master_data['Arrest'].value_counts().to_dict()"
   ]
  },
  {
   "cell_type": "code",
   "execution_count": 7,
   "id": "5b5f20ff-d5be-44f1-b89b-6c96a1ac4ea3",
   "metadata": {},
   "outputs": [
    {
     "data": {
      "text/html": [
       "<div>\n",
       "<style scoped>\n",
       "    .dataframe tbody tr th:only-of-type {\n",
       "        vertical-align: middle;\n",
       "    }\n",
       "\n",
       "    .dataframe tbody tr th {\n",
       "        vertical-align: top;\n",
       "    }\n",
       "\n",
       "    .dataframe thead th {\n",
       "        text-align: right;\n",
       "    }\n",
       "</style>\n",
       "<table border=\"1\" class=\"dataframe\">\n",
       "  <thead>\n",
       "    <tr style=\"text-align: right;\">\n",
       "      <th></th>\n",
       "      <th>Arrest</th>\n",
       "      <th>Domestic</th>\n",
       "      <th>Type_0</th>\n",
       "      <th>Type_1</th>\n",
       "      <th>Type_2</th>\n",
       "      <th>Type_3</th>\n",
       "      <th>Type_5</th>\n",
       "      <th>Type_6</th>\n",
       "      <th>Type_7</th>\n",
       "      <th>Type_8</th>\n",
       "      <th>...</th>\n",
       "      <th>District_15.0</th>\n",
       "      <th>District_16.0</th>\n",
       "      <th>District_17.0</th>\n",
       "      <th>District_18.0</th>\n",
       "      <th>District_19.0</th>\n",
       "      <th>District_20.0</th>\n",
       "      <th>District_22.0</th>\n",
       "      <th>District_24.0</th>\n",
       "      <th>District_25.0</th>\n",
       "      <th>District_31.0</th>\n",
       "    </tr>\n",
       "  </thead>\n",
       "  <tbody>\n",
       "    <tr>\n",
       "      <th>0</th>\n",
       "      <td>0</td>\n",
       "      <td>0</td>\n",
       "      <td>0</td>\n",
       "      <td>0</td>\n",
       "      <td>0</td>\n",
       "      <td>0</td>\n",
       "      <td>0</td>\n",
       "      <td>0</td>\n",
       "      <td>0</td>\n",
       "      <td>0</td>\n",
       "      <td>...</td>\n",
       "      <td>0</td>\n",
       "      <td>0</td>\n",
       "      <td>0</td>\n",
       "      <td>0</td>\n",
       "      <td>0</td>\n",
       "      <td>0</td>\n",
       "      <td>0</td>\n",
       "      <td>0</td>\n",
       "      <td>0</td>\n",
       "      <td>0</td>\n",
       "    </tr>\n",
       "    <tr>\n",
       "      <th>1</th>\n",
       "      <td>1</td>\n",
       "      <td>0</td>\n",
       "      <td>0</td>\n",
       "      <td>0</td>\n",
       "      <td>0</td>\n",
       "      <td>0</td>\n",
       "      <td>0</td>\n",
       "      <td>0</td>\n",
       "      <td>0</td>\n",
       "      <td>0</td>\n",
       "      <td>...</td>\n",
       "      <td>0</td>\n",
       "      <td>0</td>\n",
       "      <td>0</td>\n",
       "      <td>0</td>\n",
       "      <td>0</td>\n",
       "      <td>0</td>\n",
       "      <td>0</td>\n",
       "      <td>0</td>\n",
       "      <td>0</td>\n",
       "      <td>0</td>\n",
       "    </tr>\n",
       "    <tr>\n",
       "      <th>2</th>\n",
       "      <td>1</td>\n",
       "      <td>0</td>\n",
       "      <td>0</td>\n",
       "      <td>0</td>\n",
       "      <td>0</td>\n",
       "      <td>0</td>\n",
       "      <td>0</td>\n",
       "      <td>0</td>\n",
       "      <td>0</td>\n",
       "      <td>0</td>\n",
       "      <td>...</td>\n",
       "      <td>0</td>\n",
       "      <td>0</td>\n",
       "      <td>0</td>\n",
       "      <td>0</td>\n",
       "      <td>0</td>\n",
       "      <td>0</td>\n",
       "      <td>0</td>\n",
       "      <td>0</td>\n",
       "      <td>0</td>\n",
       "      <td>0</td>\n",
       "    </tr>\n",
       "    <tr>\n",
       "      <th>3</th>\n",
       "      <td>0</td>\n",
       "      <td>0</td>\n",
       "      <td>0</td>\n",
       "      <td>0</td>\n",
       "      <td>0</td>\n",
       "      <td>0</td>\n",
       "      <td>0</td>\n",
       "      <td>0</td>\n",
       "      <td>0</td>\n",
       "      <td>0</td>\n",
       "      <td>...</td>\n",
       "      <td>0</td>\n",
       "      <td>0</td>\n",
       "      <td>0</td>\n",
       "      <td>1</td>\n",
       "      <td>0</td>\n",
       "      <td>0</td>\n",
       "      <td>0</td>\n",
       "      <td>0</td>\n",
       "      <td>0</td>\n",
       "      <td>0</td>\n",
       "    </tr>\n",
       "    <tr>\n",
       "      <th>4</th>\n",
       "      <td>1</td>\n",
       "      <td>0</td>\n",
       "      <td>0</td>\n",
       "      <td>0</td>\n",
       "      <td>0</td>\n",
       "      <td>0</td>\n",
       "      <td>0</td>\n",
       "      <td>0</td>\n",
       "      <td>0</td>\n",
       "      <td>0</td>\n",
       "      <td>...</td>\n",
       "      <td>0</td>\n",
       "      <td>0</td>\n",
       "      <td>0</td>\n",
       "      <td>0</td>\n",
       "      <td>0</td>\n",
       "      <td>0</td>\n",
       "      <td>0</td>\n",
       "      <td>0</td>\n",
       "      <td>0</td>\n",
       "      <td>0</td>\n",
       "    </tr>\n",
       "  </tbody>\n",
       "</table>\n",
       "<p>5 rows × 132 columns</p>\n",
       "</div>"
      ],
      "text/plain": [
       "   Arrest  Domestic  Type_0  Type_1  Type_2  Type_3  Type_5  Type_6  Type_7  \\\n",
       "0       0         0       0       0       0       0       0       0       0   \n",
       "1       1         0       0       0       0       0       0       0       0   \n",
       "2       1         0       0       0       0       0       0       0       0   \n",
       "3       0         0       0       0       0       0       0       0       0   \n",
       "4       1         0       0       0       0       0       0       0       0   \n",
       "\n",
       "   Type_8  ...  District_15.0  District_16.0  District_17.0  District_18.0  \\\n",
       "0       0  ...              0              0              0              0   \n",
       "1       0  ...              0              0              0              0   \n",
       "2       0  ...              0              0              0              0   \n",
       "3       0  ...              0              0              0              1   \n",
       "4       0  ...              0              0              0              0   \n",
       "\n",
       "   District_19.0  District_20.0  District_22.0  District_24.0  District_25.0  \\\n",
       "0              0              0              0              0              0   \n",
       "1              0              0              0              0              0   \n",
       "2              0              0              0              0              0   \n",
       "3              0              0              0              0              0   \n",
       "4              0              0              0              0              0   \n",
       "\n",
       "   District_31.0  \n",
       "0              0  \n",
       "1              0  \n",
       "2              0  \n",
       "3              0  \n",
       "4              0  \n",
       "\n",
       "[5 rows x 132 columns]"
      ]
     },
     "execution_count": 7,
     "metadata": {},
     "output_type": "execute_result"
    }
   ],
   "source": [
    "subset_cols = ['Arrest', 'Type', 'Community Area', 'Domestic', 'District']\n",
    "subset_data = master_data[subset_cols]\n",
    "one_hot_subset = one_hot_encode(subset_data, ['Type', 'Community Area', 'District'])\n",
    "one_hot_subset.head()"
   ]
  },
  {
   "cell_type": "code",
   "execution_count": 56,
   "id": "ac9c1db5-6cea-4408-9a3d-7da69fa9d95e",
   "metadata": {},
   "outputs": [
    {
     "name": "stdout",
     "output_type": "stream",
     "text": [
      "Train/Valid/Test sizes: 90633 22659 48554\n",
      "X_train.shape: (90633, 131)\n",
      "y_train.shape: (90633,)\n",
      "X_test.shape: (48554, 131)\n",
      "y_test.shape: (48554,)\n"
     ]
    }
   ],
   "source": [
    "sample = one_hot_subset.sample(frac=0.3, random_state=123)\n",
    "\n",
    "X, y = sample.drop(\"Arrest\", axis=1).copy(), sample['Arrest']\n",
    "\n",
    "smote = SMOTE(random_state=0)\n",
    "X_resampled, y_resampled = smote.fit_resample(X, y)\n",
    "\n",
    "X_temp, X_test, y_temp, y_test = train_test_split(X_resampled, y_resampled, \n",
    "                                                    test_size=0.3,\n",
    "                                                    random_state=123,\n",
    "                                                    shuffle=True,\n",
    "                                                   stratify=y_resampled)\n",
    "\n",
    "\n",
    "X_train, X_valid, y_train, y_valid = \\\n",
    "    train_test_split(X_temp, y_temp, test_size=0.2, random_state=1, stratify=y_temp)\n",
    "print('Train/Valid/Test sizes:', y_train.shape[0], y_valid.shape[0], y_test.shape[0])\n",
    "\n",
    "print(f'X_train.shape: {X_train.shape}')\n",
    "print(f'y_train.shape: {y_train.shape}')\n",
    "print(f'X_test.shape: {X_test.shape}')\n",
    "print(f'y_test.shape: {y_test.shape}')"
   ]
  },
  {
   "cell_type": "code",
   "execution_count": 57,
   "id": "3af0ae14-c991-48fb-8b38-96d3105ca4b6",
   "metadata": {},
   "outputs": [
    {
     "name": "stdout",
     "output_type": "stream",
     "text": [
      "Train Accuracy: 79.710%\n",
      "Valid Accuracy: 78.724%\n",
      "Test Accuracy : 79.003%\n",
      "KNN Validation Log Loss:  7.252231550982517\n",
      "KNN Precision Score    :  0.8677146438270316\n"
     ]
    },
    {
     "data": {
      "image/png": "[encoded data removed]",
      "text/plain": [
       "<Figure size 432x288 with 2 Axes>"
      ]
     },
     "metadata": {
      "needs_background": "light"
     },
     "output_type": "display_data"
    }
   ],
   "source": [
    "knn = KNeighborsClassifier(n_neighbors=10)\n",
    "knn.fit(X_train.values, y_train.values)\n",
    "print(f\"Train Accuracy: {knn.score(X_train.values, y_train.values)*100:0.3f}%\")\n",
    "print(f\"Valid Accuracy: {knn.score(X_valid.values, y_valid.values)*100:0.3f}%\")\n",
    "print(f\"Test Accuracy : {knn.score(X_test.values, y_test.values)*100:0.3f}%\")\n",
    "\n",
    "y_pred = knn.predict(X_test.values)\n",
    "ConfusionMatrixDisplay.from_predictions(y_test, y_pred)\n",
    "\n",
    "knn_loss = log_loss(y_test, y_pred)\n",
    "pr_score = precision_score(y_test, y_pred)\n",
    "print('KNN Validation Log Loss: ', knn_loss)\n",
    "print('KNN Precision Score    : ', pr_score)"
   ]
  },
  {
   "cell_type": "code",
   "execution_count": 58,
   "id": "cab1686d-4d7f-4e3e-8de9-764badc29df3",
   "metadata": {},
   "outputs": [
    {
     "data": {
      "image/png": "[encoded data removed]",
      "text/plain": [
       "<Figure size 432x288 with 1 Axes>"
      ]
     },
     "metadata": {
      "needs_background": "light"
     },
     "output_type": "display_data"
    }
   ],
   "source": [
    "model = ExtraTreesClassifier()\n",
    "data_sample = sample.drop('Arrest', axis=1).copy()\n",
    "\n",
    "model.fit(data_sample, sample['Arrest'])\n",
    "\n",
    "feat_importances = pd.Series(model.feature_importances_, index=data_sample.columns)\n",
    "\n",
    "feat_importances.nlargest(10).plot(kind='barh')\n",
    "plt.show()"
   ]
  },
  {
   "cell_type": "code",
   "execution_count": 17,
   "id": "2dd51063-1e5d-482d-8162-97fe58112cea",
   "metadata": {},
   "outputs": [
    {
     "name": "stdout",
     "output_type": "stream",
     "text": [
      "Train/Valid/Test sizes: 90633 22659 48554\n",
      "X_train.shape: (90633, 11)\n",
      "y_train.shape: (90633,)\n",
      "X_test.shape: (48554, 11)\n",
      "y_test.shape: (48554,)\n"
     ]
    }
   ],
   "source": [
    "top_features = ['Type_18','Weekend','BusinessHour','Type_33','Type_8','Type_6','Domestic' ,'Season_2',\n",
    "                    'Season_4','Type_2','Type_3', 'Arrest']\n",
    "\n",
    "top_feat_data =  one_hot[top_features]\n",
    "sample = top_feat_data.sample(frac=0.3, random_state=123)\n",
    "\n",
    "X, y = sample.drop(\"Arrest\", axis=1).copy(), sample['Arrest']\n",
    "\n",
    "smote = SMOTE(random_state=0)\n",
    "X_resampled, y_resampled = smote.fit_resample(X, y)\n",
    "\n",
    "X_temp, X_test, y_temp, y_test = train_test_split(X_resampled, y_resampled, \n",
    "                                                    test_size=0.3,\n",
    "                                                    random_state=123,\n",
    "                                                    shuffle=True,\n",
    "                                                   stratify=y_resampled)\n",
    "\n",
    "\n",
    "X_train, X_valid, y_train, y_valid = \\\n",
    "    train_test_split(X_temp, y_temp, test_size=0.2, random_state=1, stratify=y_temp)\n",
    "print('Train/Valid/Test sizes:', y_train.shape[0], y_valid.shape[0], y_test.shape[0])\n",
    "\n",
    "print(f'X_train.shape: {X_train.shape}')\n",
    "print(f'y_train.shape: {y_train.shape}')\n",
    "print(f'X_test.shape: {X_test.shape}')\n",
    "print(f'y_test.shape: {y_test.shape}')"
   ]
  },
  {
   "cell_type": "code",
   "execution_count": 13,
   "id": "1f3b5389-4825-42d0-82d1-e28acde10416",
   "metadata": {},
   "outputs": [
    {
     "data": {
      "text/plain": [
       "XGBClassifier(alpha=1.5250645374694402e-05, base_score=0.5, booster='gbtree',\n",
       "              colsample_bylevel=1, colsample_bynode=1, colsample_bytree=1,\n",
       "              enable_categorical=False, gamma=0, gpu_id=-1,\n",
       "              importance_type=None, interaction_constraints='',\n",
       "              lambda=6.75602695966699e-05, learning_rate=0.01, max_delta_step=0,\n",
       "              max_depth=6, min_child_weight=1, missing=nan,\n",
       "              monotone_constraints='()', n_estimators=300, n_jobs=8,\n",
       "              num_parallel_tree=1, predictor='auto', random_state=123,\n",
       "              reg_alpha=1.52506445e-05, reg_lambda=6.75602714e-05,\n",
       "              scale_pos_weight=1, subsample=1, tree_method='exact',\n",
       "              use_label_encoder=False, validate_parameters=1, ...)"
      ]
     },
     "execution_count": 13,
     "metadata": {},
     "output_type": "execute_result"
    }
   ],
   "source": [
    "best_params = {\n",
    "    'n_estimators': 300,\n",
    "\t'learning_rate': 0.01,\n",
    "\t'lambda': 6.75602695966699e-05,\n",
    "\t'alpha': 1.5250645374694402e-05\n",
    "}\n",
    "\n",
    "\n",
    "model = XGBClassifier(**best_params, random_state=123, use_label_encoder=False)\n",
    "model.fit(\n",
    "    X_train,\n",
    "    y_train,\n",
    "    verbose=False,\n",
    "    eval_set=[(X_valid, y_valid)],\n",
    "    eval_metric=\"auc\",\n",
    "    early_stopping_rounds=100,\n",
    ")"
   ]
  },
  {
   "cell_type": "code",
   "execution_count": 14,
   "id": "a9ec31b0-94a4-4fe9-aa89-2ab563774d15",
   "metadata": {},
   "outputs": [
    {
     "name": "stdout",
     "output_type": "stream",
     "text": [
      "Training Accuracy: 0.741\n",
      "Test Accuracy: 0.742\n",
      "Test Accuracy: 0.741\n",
      "0.9788101059494703\n",
      "8.911056963265187\n"
     ]
    }
   ],
   "source": [
    "print(f\"Training Accuracy: {model.score(X_train, y_train):0.3f}\")\n",
    "print(f\"Test Accuracy: {model.score(X_test, y_test):0.3f}\")\n",
    "print(f\"Test Accuracy: {model.score(X_valid, y_valid):0.3f}\")\n",
    "y_pred = model.predict(X_test.values)\n",
    "pc = precision_score(y_test, y_pred)\n",
    "print(pc)\n",
    "print(log_loss(y_test, y_pred))\n"
   ]
  },
  {
   "cell_type": "code",
   "execution_count": 81,
   "id": "8a6f5ba1-6baa-49fe-a6f0-e200a57ea6ec",
   "metadata": {},
   "outputs": [
    {
     "data": {
      "text/plain": [
       "<sklearn.metrics._plot.confusion_matrix.ConfusionMatrixDisplay at 0x1db0c9fb310>"
      ]
     },
     "execution_count": 81,
     "metadata": {},
     "output_type": "execute_result"
    },
    {
     "data": {
      "image/png": "[encoded data removed]",
      "text/plain": [
       "<Figure size 432x288 with 2 Axes>"
      ]
     },
     "metadata": {
      "needs_background": "light"
     },
     "output_type": "display_data"
    }
   ],
   "source": [
    "ConfusionMatrixDisplay.from_predictions(y_test, y_pred)"
   ]
  },
  {
   "cell_type": "code",
   "execution_count": 12,
   "id": "c03b9614-5a58-402b-9a86-538309d8099d",
   "metadata": {},
   "outputs": [
    {
     "name": "stdout",
     "output_type": "stream",
     "text": [
      "Train Accuracy: 71.859%\n",
      "Valid Accuracy: 71.768%\n",
      "Test Accuracy : 71.906%\n",
      "KNN Validation Log Loss:  9.70359690011375\n",
      "KNN Precision Score    :  0.7299178555987894\n"
     ]
    },
    {
     "data": {
      "image/png": "[encoded data removed]",
      "text/plain": [
       "<Figure size 432x288 with 2 Axes>"
      ]
     },
     "metadata": {
      "needs_background": "light"
     },
     "output_type": "display_data"
    }
   ],
   "source": [
    "knn = KNeighborsClassifier(n_neighbors=5)\n",
    "knn.fit(X_train.values, y_train.values)\n",
    "print(f\"Train Accuracy: {knn.score(X_train.values, y_train.values)*100:0.3f}%\")\n",
    "print(f\"Valid Accuracy: {knn.score(X_valid.values, y_valid.values)*100:0.3f}%\")\n",
    "print(f\"Test Accuracy : {knn.score(X_test.values, y_test.values)*100:0.3f}%\")\n",
    "\n",
    "y_pred = knn.predict(X_test.values)\n",
    "ConfusionMatrixDisplay.from_predictions(y_test, y_pred)\n",
    "\n",
    "knn_loss = log_loss(y_test, y_pred)\n",
    "pr_score = precision_score(y_test, y_pred)\n",
    "print('KNN Validation Log Loss: ', knn_loss)\n",
    "print('KNN Precision Score    : ', pr_score)"
   ]
  },
  {
   "cell_type": "code",
   "execution_count": 19,
   "id": "be1f41eb-d060-4c50-94b8-5c34886129e0",
   "metadata": {},
   "outputs": [
    {
     "name": "stdout",
     "output_type": "stream",
     "text": [
      "Train Accuracy: 74.050%\n",
      "Valid Accuracy: 74.037%\n",
      "Test Accuracy : 73.821%\n",
      "KNN Validation Log Loss:  9.041970417025704\n",
      "KNN Precision Score    :  0.880961791831357\n"
     ]
    },
    {
     "data": {
      "image/png": "[encoded data removed]",
      "text/plain": [
       "<Figure size 432x288 with 2 Axes>"
      ]
     },
     "metadata": {
      "needs_background": "light"
     },
     "output_type": "display_data"
    }
   ],
   "source": [
    "knn = KNeighborsClassifier(n_neighbors=100)\n",
    "knn.fit(X_train.values, y_train.values)\n",
    "print(f\"Train Accuracy: {knn.score(X_train.values, y_train.values)*100:0.3f}%\")\n",
    "print(f\"Valid Accuracy: {knn.score(X_valid.values, y_valid.values)*100:0.3f}%\")\n",
    "print(f\"Test Accuracy : {knn.score(X_test.values, y_test.values)*100:0.3f}%\")\n",
    "\n",
    "y_pred = knn.predict(X_test.values)\n",
    "ConfusionMatrixDisplay.from_predictions(y_test, y_pred)\n",
    "\n",
    "knn_loss = log_loss(y_test, y_pred)\n",
    "pr_score = precision_score(y_test, y_pred)\n",
    "print('KNN Validation Log Loss: ', knn_loss)\n",
    "print('KNN Precision Score    : ', pr_score)"
   ]
  },
  {
   "cell_type": "markdown",
   "id": "05dbfdcc-f9e7-4e62-a03a-8a5dfa7a6d4d",
   "metadata": {},
   "source": [
    "# "
   ]
  }
 ],
 "metadata": {
  "kernelspec": {
   "display_name": "Python 3 (ipykernel)",
   "language": "python",
   "name": "python3"
  },
  "language_info": {
   "codemirror_mode": {
    "name": "ipython",
    "version": 3
   },
   "file_extension": ".py",
   "mimetype": "text/x-python",
   "name": "python",
   "nbconvert_exporter": "python",
   "pygments_lexer": "ipython3",
   "version": "3.9.7"
  }
 },
 "nbformat": 4,
 "nbformat_minor": 5
}

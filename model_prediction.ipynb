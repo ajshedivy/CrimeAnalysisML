{
 "cells": [
  {
   "cell_type": "markdown",
   "id": "770a0dd8-24b5-471a-9d20-3dbbeb109ccf",
   "metadata": {},
   "source": [
    "# Predicting Arrests in Chicago"
   ]
  },
  {
   "cell_type": "code",
   "execution_count": 1,
   "id": "09f8debf-3c2b-4112-9b8a-b0824c95ea99",
   "metadata": {},
   "outputs": [],
   "source": [
    "# import libraries\n",
    "import os\n",
    "import pandas as pd\n",
    "import numpy as np\n",
    "\n",
    "# import seaborn as sns # install seaborn with either pip or conda, used for heat maps\n",
    "%matplotlib inline\n",
    "from matplotlib import pyplot as plt\n",
    "from matplotlib import style\n",
    "\n",
    "# Algorithms\n",
    "from sklearn import linear_model\n",
    "from sklearn.linear_model import SGDClassifier, LogisticRegression\n",
    "from sklearn.ensemble import RandomForestClassifier\n",
    "from sklearn.linear_model import Perceptron\n",
    "from sklearn.tree import DecisionTreeClassifier\n",
    "from sklearn.neighbors import KNeighborsClassifier\n",
    "from sklearn.svm import SVC, LinearSVC\n",
    "from sklearn.naive_bayes import GaussianNB, MultinomialNB\n",
    "from sklearn.ensemble import AdaBoostClassifier, ExtraTreesClassifier\n",
    "from sklearn.neural_network import MLPClassifier\n",
    "from xgboost import XGBClassifier\n",
    "import xgboost as xgb\n",
    "\n",
    "# import DataSet\n",
    "from util.data_util import DataSet\n",
    "\n",
    "from sklearn.model_selection import train_test_split\n",
    "from sklearn.metrics import log_loss, confusion_matrix, precision_recall_curve, \\\n",
    "precision_score, precision_recall_fscore_support, plot_confusion_matrix\n",
    "from sklearn.metrics import ConfusionMatrixDisplay"
   ]
  },
  {
   "cell_type": "markdown",
   "id": "2a70b957-897f-4a1d-b773-0e01cdb71030",
   "metadata": {},
   "source": [
    "## Load data"
   ]
  },
  {
   "cell_type": "code",
   "execution_count": 2,
   "id": "152a5e55-1a48-42fe-97eb-873b1140cf49",
   "metadata": {},
   "outputs": [],
   "source": [
    "def create_master_df():\n",
    "    cleaned_data = 'cleaned_data.zip'\n",
    "    ds = DataSet(cleaned_data)\n",
    "    data = ds.load_subset(['2010'])\n",
    "    df = data.apply(pd.to_numeric, errors = 'ignore')\n",
    "\n",
    "    root_dir = os.getcwd()\n",
    "    com_data = os.path.join(root_dir, 'data', 'Per_Capita_Income.csv')\n",
    "    com_df = pd.read_csv(com_data)\n",
    "    com_df = com_df.apply(pd.to_numeric, errors='ignore')\n",
    "\n",
    "    com_df.fillna(0)\n",
    "    com_df = com_df.rename(columns={'Community Area Number': 'Community Area'})\n",
    "    df = df[df['Community Area'] != 0]\n",
    "    df = df.merge(com_df, how='left', on='Community Area')\n",
    "\n",
    "    df.drop(['Block'], axis=1, inplace=True)\n",
    "    df.drop(['Description'], axis=1, inplace=True)\n",
    "    df.drop(['Location Description'], axis=1, inplace=True)\n",
    "    df.drop(['Updated On'], axis=1, inplace=True)\n",
    "    df.drop(['Location'], axis=1, inplace=True)\n",
    "    df.drop(['COMMUNITY AREA NAME'], axis=1, inplace=True)\n",
    "    df.drop(['Year'], axis=1, inplace=True)\n",
    "    \n",
    "    return df"
   ]
  },
  {
   "cell_type": "code",
   "execution_count": 3,
   "id": "23ac946a-dcc6-470d-bc9d-7e3efe8c1b4a",
   "metadata": {},
   "outputs": [
    {
     "name": "stdout",
     "output_type": "stream",
     "text": [
      "C:\\Users\\6J3034897\\Documents\\uw\\f21\\stat451\\project\\CrimeAnalysisML\\data\\cleaned_data.zip\n",
      "downloading: data/2010/data_2010.csv ...\n",
      "done.\n",
      "build DataFrame ...\n"
     ]
    }
   ],
   "source": [
    "master_data = create_master_df()"
   ]
  },
  {
   "cell_type": "code",
   "execution_count": 4,
   "id": "e7d1a039-645a-48e2-b2aa-1101953ecbc9",
   "metadata": {},
   "outputs": [
    {
     "data": {
      "text/html": [
       "<div>\n",
       "<style scoped>\n",
       "    .dataframe tbody tr th:only-of-type {\n",
       "        vertical-align: middle;\n",
       "    }\n",
       "\n",
       "    .dataframe tbody tr th {\n",
       "        vertical-align: top;\n",
       "    }\n",
       "\n",
       "    .dataframe thead th {\n",
       "        text-align: right;\n",
       "    }\n",
       "</style>\n",
       "<table border=\"1\" class=\"dataframe\">\n",
       "  <thead>\n",
       "    <tr style=\"text-align: right;\">\n",
       "      <th></th>\n",
       "      <th>Arrest</th>\n",
       "      <th>Domestic</th>\n",
       "      <th>Beat</th>\n",
       "      <th>District</th>\n",
       "      <th>Ward</th>\n",
       "      <th>Community Area</th>\n",
       "      <th>X Coordinate</th>\n",
       "      <th>Y Coordinate</th>\n",
       "      <th>Latitude</th>\n",
       "      <th>Longitude</th>\n",
       "      <th>...</th>\n",
       "      <th>Radius</th>\n",
       "      <th>Angle</th>\n",
       "      <th>Type</th>\n",
       "      <th>PERCENT OF HOUSING CROWDED</th>\n",
       "      <th>PERCENT HOUSEHOLDS BELOW POVERTY</th>\n",
       "      <th>PERCENT AGED 16+ UNEMPLOYED</th>\n",
       "      <th>PERCENT AGED 25+ WITHOUT HIGH SCHOOL DIPLOMA</th>\n",
       "      <th>PERCENT AGED UNDER 18 OR OVER 64</th>\n",
       "      <th>PER CAPITA INCOME</th>\n",
       "      <th>HARDSHIP INDEX</th>\n",
       "    </tr>\n",
       "  </thead>\n",
       "  <tbody>\n",
       "    <tr>\n",
       "      <th>0</th>\n",
       "      <td>0</td>\n",
       "      <td>0</td>\n",
       "      <td>323</td>\n",
       "      <td>3.0</td>\n",
       "      <td>6.0</td>\n",
       "      <td>69.0</td>\n",
       "      <td>1183191.0</td>\n",
       "      <td>1855830.0</td>\n",
       "      <td>41.759594</td>\n",
       "      <td>-87.604169</td>\n",
       "      <td>...</td>\n",
       "      <td>97.048205</td>\n",
       "      <td>2.696770</td>\n",
       "      <td>9</td>\n",
       "      <td>3.6</td>\n",
       "      <td>29.6</td>\n",
       "      <td>23.0</td>\n",
       "      <td>16.5</td>\n",
       "      <td>41.0</td>\n",
       "      <td>17285</td>\n",
       "      <td>66.0</td>\n",
       "    </tr>\n",
       "    <tr>\n",
       "      <th>1</th>\n",
       "      <td>1</td>\n",
       "      <td>0</td>\n",
       "      <td>924</td>\n",
       "      <td>9.0</td>\n",
       "      <td>12.0</td>\n",
       "      <td>61.0</td>\n",
       "      <td>1161779.0</td>\n",
       "      <td>1875003.0</td>\n",
       "      <td>41.812678</td>\n",
       "      <td>-87.682112</td>\n",
       "      <td>...</td>\n",
       "      <td>97.141406</td>\n",
       "      <td>2.696622</td>\n",
       "      <td>23</td>\n",
       "      <td>11.9</td>\n",
       "      <td>29.0</td>\n",
       "      <td>23.0</td>\n",
       "      <td>41.5</td>\n",
       "      <td>38.9</td>\n",
       "      <td>12765</td>\n",
       "      <td>91.0</td>\n",
       "    </tr>\n",
       "    <tr>\n",
       "      <th>2</th>\n",
       "      <td>1</td>\n",
       "      <td>0</td>\n",
       "      <td>1124</td>\n",
       "      <td>11.0</td>\n",
       "      <td>2.0</td>\n",
       "      <td>27.0</td>\n",
       "      <td>1156795.0</td>\n",
       "      <td>1899213.0</td>\n",
       "      <td>41.879216</td>\n",
       "      <td>-87.699738</td>\n",
       "      <td>...</td>\n",
       "      <td>97.185970</td>\n",
       "      <td>2.696082</td>\n",
       "      <td>18</td>\n",
       "      <td>8.2</td>\n",
       "      <td>42.4</td>\n",
       "      <td>19.6</td>\n",
       "      <td>21.3</td>\n",
       "      <td>43.2</td>\n",
       "      <td>12961</td>\n",
       "      <td>83.0</td>\n",
       "    </tr>\n",
       "    <tr>\n",
       "      <th>3</th>\n",
       "      <td>0</td>\n",
       "      <td>0</td>\n",
       "      <td>1834</td>\n",
       "      <td>18.0</td>\n",
       "      <td>42.0</td>\n",
       "      <td>8.0</td>\n",
       "      <td>1177342.0</td>\n",
       "      <td>1903838.0</td>\n",
       "      <td>41.891466</td>\n",
       "      <td>-87.624153</td>\n",
       "      <td>...</td>\n",
       "      <td>97.123051</td>\n",
       "      <td>2.695633</td>\n",
       "      <td>9</td>\n",
       "      <td>1.9</td>\n",
       "      <td>12.9</td>\n",
       "      <td>7.0</td>\n",
       "      <td>2.5</td>\n",
       "      <td>22.6</td>\n",
       "      <td>88669</td>\n",
       "      <td>1.0</td>\n",
       "    </tr>\n",
       "    <tr>\n",
       "      <th>4</th>\n",
       "      <td>1</td>\n",
       "      <td>0</td>\n",
       "      <td>1112</td>\n",
       "      <td>11.0</td>\n",
       "      <td>27.0</td>\n",
       "      <td>23.0</td>\n",
       "      <td>1150571.0</td>\n",
       "      <td>1905280.0</td>\n",
       "      <td>41.895988</td>\n",
       "      <td>-87.722433</td>\n",
       "      <td>...</td>\n",
       "      <td>97.213677</td>\n",
       "      <td>2.696027</td>\n",
       "      <td>18</td>\n",
       "      <td>14.8</td>\n",
       "      <td>33.9</td>\n",
       "      <td>17.3</td>\n",
       "      <td>35.4</td>\n",
       "      <td>38.0</td>\n",
       "      <td>13781</td>\n",
       "      <td>85.0</td>\n",
       "    </tr>\n",
       "  </tbody>\n",
       "</table>\n",
       "<p>5 rows × 40 columns</p>\n",
       "</div>"
      ],
      "text/plain": [
       "   Arrest  Domestic  Beat  District  Ward  Community Area  X Coordinate  \\\n",
       "0       0         0   323       3.0   6.0            69.0     1183191.0   \n",
       "1       1         0   924       9.0  12.0            61.0     1161779.0   \n",
       "2       1         0  1124      11.0   2.0            27.0     1156795.0   \n",
       "3       0         0  1834      18.0  42.0             8.0     1177342.0   \n",
       "4       1         0  1112      11.0  27.0            23.0     1150571.0   \n",
       "\n",
       "   Y Coordinate   Latitude  Longitude  ...     Radius     Angle  Type  \\\n",
       "0     1855830.0  41.759594 -87.604169  ...  97.048205  2.696770     9   \n",
       "1     1875003.0  41.812678 -87.682112  ...  97.141406  2.696622    23   \n",
       "2     1899213.0  41.879216 -87.699738  ...  97.185970  2.696082    18   \n",
       "3     1903838.0  41.891466 -87.624153  ...  97.123051  2.695633     9   \n",
       "4     1905280.0  41.895988 -87.722433  ...  97.213677  2.696027    18   \n",
       "\n",
       "   PERCENT OF HOUSING CROWDED  PERCENT HOUSEHOLDS BELOW POVERTY  \\\n",
       "0                         3.6                              29.6   \n",
       "1                        11.9                              29.0   \n",
       "2                         8.2                              42.4   \n",
       "3                         1.9                              12.9   \n",
       "4                        14.8                              33.9   \n",
       "\n",
       "   PERCENT AGED 16+ UNEMPLOYED  PERCENT AGED 25+ WITHOUT HIGH SCHOOL DIPLOMA  \\\n",
       "0                         23.0                                          16.5   \n",
       "1                         23.0                                          41.5   \n",
       "2                         19.6                                          21.3   \n",
       "3                          7.0                                           2.5   \n",
       "4                         17.3                                          35.4   \n",
       "\n",
       "   PERCENT AGED UNDER 18 OR OVER 64  PER CAPITA INCOME   HARDSHIP INDEX  \n",
       "0                              41.0               17285            66.0  \n",
       "1                              38.9               12765            91.0  \n",
       "2                              43.2               12961            83.0  \n",
       "3                              22.6               88669             1.0  \n",
       "4                              38.0               13781            85.0  \n",
       "\n",
       "[5 rows x 40 columns]"
      ]
     },
     "execution_count": 4,
     "metadata": {},
     "output_type": "execute_result"
    }
   ],
   "source": [
    "master_data.head()"
   ]
  },
  {
   "cell_type": "code",
   "execution_count": 5,
   "id": "90d2b843-fb72-4ff2-9e9d-71a9181c13f4",
   "metadata": {},
   "outputs": [
    {
     "name": "stdout",
     "output_type": "stream",
     "text": [
      "<class 'pandas.core.frame.DataFrame'>\n",
      "Int64Index: 369793 entries, 0 to 369792\n",
      "Data columns (total 40 columns):\n",
      " #   Column                                        Non-Null Count   Dtype  \n",
      "---  ------                                        --------------   -----  \n",
      " 0   Arrest                                        369793 non-null  int64  \n",
      " 1   Domestic                                      369793 non-null  int64  \n",
      " 2   Beat                                          369793 non-null  int64  \n",
      " 3   District                                      369793 non-null  float64\n",
      " 4   Ward                                          369793 non-null  float64\n",
      " 5   Community Area                                369793 non-null  float64\n",
      " 6   X Coordinate                                  369793 non-null  float64\n",
      " 7   Y Coordinate                                  369793 non-null  float64\n",
      " 8   Latitude                                      369793 non-null  float64\n",
      " 9   Longitude                                     369793 non-null  float64\n",
      " 10  Month                                         369793 non-null  int64  \n",
      " 11  dayOfWeek                                     369793 non-null  int64  \n",
      " 12  dayOfMonth                                    369793 non-null  int64  \n",
      " 13  dayOfYear                                     369793 non-null  int64  \n",
      " 14  weekOfMonth                                   369793 non-null  int64  \n",
      " 15  weekOfYear                                    369793 non-null  int64  \n",
      " 16  Hour                                          369793 non-null  int64  \n",
      " 17  Day                                           369793 non-null  int64  \n",
      " 18  Minute                                        369793 non-null  int64  \n",
      " 19  Holiday                                       369793 non-null  int64  \n",
      " 20  BusinessHour                                  369793 non-null  int64  \n",
      " 21  Season                                        369793 non-null  int64  \n",
      " 22  Weekend                                       369793 non-null  int64  \n",
      " 23  Cluster                                       369793 non-null  int64  \n",
      " 24  Rot30_X                                       369793 non-null  float64\n",
      " 25  Rot30_Y                                       369793 non-null  float64\n",
      " 26  Rot45_X                                       369793 non-null  float64\n",
      " 27  Rot45_Y                                       369793 non-null  float64\n",
      " 28  Rot60_X                                       369793 non-null  float64\n",
      " 29  Rot60_Y                                       369793 non-null  float64\n",
      " 30  Radius                                        369793 non-null  float64\n",
      " 31  Angle                                         369793 non-null  float64\n",
      " 32  Type                                          369793 non-null  int64  \n",
      " 33  PERCENT OF HOUSING CROWDED                    369793 non-null  float64\n",
      " 34  PERCENT HOUSEHOLDS BELOW POVERTY              369793 non-null  float64\n",
      " 35  PERCENT AGED 16+ UNEMPLOYED                   369793 non-null  float64\n",
      " 36  PERCENT AGED 25+ WITHOUT HIGH SCHOOL DIPLOMA  369793 non-null  float64\n",
      " 37  PERCENT AGED UNDER 18 OR OVER 64              369793 non-null  float64\n",
      " 38  PER CAPITA INCOME                             369793 non-null  int64  \n",
      " 39  HARDSHIP INDEX                                369793 non-null  float64\n",
      "dtypes: float64(21), int64(19)\n",
      "memory usage: 115.7 MB\n"
     ]
    }
   ],
   "source": [
    "master_data.info()"
   ]
  },
  {
   "cell_type": "markdown",
   "id": "08724dba-0d24-438f-afb5-48b00e786980",
   "metadata": {},
   "source": [
    "## Refactor feature columns"
   ]
  },
  {
   "cell_type": "code",
   "execution_count": 6,
   "id": "ac697cac-4570-48eb-b2c2-d26d3f76c3dd",
   "metadata": {},
   "outputs": [],
   "source": [
    "def one_hot_encode(train_data, categories):\n",
    "    encoded_df = train_data\n",
    "    for cat in categories:\n",
    "        encoded_df = pd.concat([encoded_df, \n",
    "                                    pd.get_dummies(pd.Series(encoded_df[cat]), prefix=cat)], axis=1)\n",
    "    encoded_df = encoded_df.drop(categories, axis=1)\n",
    "    \n",
    "    return encoded_df"
   ]
  },
  {
   "cell_type": "markdown",
   "id": "22edda01-a62a-4f44-acca-89b54a65c7c2",
   "metadata": {},
   "source": [
    "### One hot encode all features"
   ]
  },
  {
   "cell_type": "code",
   "execution_count": 7,
   "id": "a0478149-76ba-4f1c-a785-dc408e1f6d80",
   "metadata": {},
   "outputs": [
    {
     "data": {
      "text/plain": [
       "(369793, 1109)"
      ]
     },
     "execution_count": 7,
     "metadata": {},
     "output_type": "execute_result"
    }
   ],
   "source": [
    "feature_cols = ['Beat', 'District', 'Ward', 'Community Area', 'Month', 'dayOfWeek',\n",
    "               'dayOfYear', 'weekOfMonth', 'weekOfYear', 'Hour', 'Day', 'Minute', 'Holiday',\n",
    "                'Season', 'Cluster', 'Type']\n",
    "\n",
    "one_hot = one_hot_encode(master_data, feature_cols)\n",
    "one_hot.shape"
   ]
  },
  {
   "cell_type": "markdown",
   "id": "dafa37a5-439c-4f77-8faf-c1e0ee168d71",
   "metadata": {},
   "source": [
    "### Create sample of dataset"
   ]
  },
  {
   "cell_type": "code",
   "execution_count": 8,
   "id": "1473d1b3-81a2-4c2a-8fe6-a6780b6e8bd0",
   "metadata": {},
   "outputs": [
    {
     "data": {
      "text/plain": [
       "(110938, 1109)"
      ]
     },
     "execution_count": 8,
     "metadata": {},
     "output_type": "execute_result"
    }
   ],
   "source": [
    "sample = one_hot.sample(frac=0.3, random_state=123)\n",
    "sample.shape"
   ]
  },
  {
   "cell_type": "markdown",
   "id": "8a9ae4b3-0d0f-4b4e-bcf1-677e7885e1b5",
   "metadata": {},
   "source": [
    "## Generate training and test sets"
   ]
  },
  {
   "cell_type": "code",
   "execution_count": 9,
   "id": "5ecd95c9-344a-44b5-9355-b8d59cf38284",
   "metadata": {},
   "outputs": [
    {
     "name": "stdout",
     "output_type": "stream",
     "text": [
      "Train/Valid/Test sizes: 62124 15532 33282\n",
      "X_train.shape: (62124, 1108)\n",
      "y_train.shape: (62124,)\n",
      "X_test.shape: (33282, 1108)\n",
      "y_test.shape: (33282,)\n"
     ]
    }
   ],
   "source": [
    "X, y = sample.drop('Arrest', axis=1).copy(), sample['Arrest']\n",
    "\n",
    "X_temp, X_test, y_temp, y_test = train_test_split(X, y, \n",
    "                                                    test_size=0.3,\n",
    "                                                    random_state=123,\n",
    "                                                    shuffle=True,\n",
    "                                                   stratify=y)\n",
    "\n",
    "\n",
    "X_train, X_valid, y_train, y_valid = \\\n",
    "    train_test_split(X_temp, y_temp, test_size=0.2, random_state=1, stratify=y_temp)\n",
    "print('Train/Valid/Test sizes:', y_train.shape[0], y_valid.shape[0], y_test.shape[0])\n",
    "\n",
    "print(f'X_train.shape: {X_train.shape}')\n",
    "print(f'y_train.shape: {y_train.shape}')\n",
    "print(f'X_test.shape: {X_test.shape}')\n",
    "print(f'y_test.shape: {y_test.shape}')"
   ]
  },
  {
   "cell_type": "markdown",
   "id": "7a3917cb-9447-4612-9594-04b4a9ea885e",
   "metadata": {},
   "source": [
    "## Baseline models"
   ]
  },
  {
   "cell_type": "code",
   "execution_count": 10,
   "id": "1c9dcbde-69ba-433c-b86a-fab9f3d378d3",
   "metadata": {
    "tags": []
   },
   "outputs": [
    {
     "name": "stdout",
     "output_type": "stream",
     "text": [
      "Train Accuracy: 79.646%\n",
      "Valid Accuracy: 71.330%\n",
      "Test Accuracy: 0.718\n"
     ]
    }
   ],
   "source": [
    "knn = KNeighborsClassifier(n_neighbors=5)\n",
    "knn.fit(X_train.values, y_train.values)\n",
    "print(f\"Train Accuracy: {knn.score(X_train.values, y_train.values)*100:0.3f}%\")\n",
    "print(f\"Valid Accuracy: {knn.score(X_valid.values, y_valid.values)*100:0.3f}%\")\n",
    "print(\"Test Accuracy: %0.3f\" % knn.score(X_test.values, y_test.values))\n",
    "\n",
    "y_pred = knn.predict(X_test.values)"
   ]
  },
  {
   "cell_type": "code",
   "execution_count": 11,
   "id": "d5085730-9b69-4a2d-82a7-b495daca3632",
   "metadata": {},
   "outputs": [
    {
     "data": {
      "text/plain": [
       "<sklearn.metrics._plot.confusion_matrix.ConfusionMatrixDisplay at 0x28b3a1cc430>"
      ]
     },
     "execution_count": 11,
     "metadata": {},
     "output_type": "execute_result"
    },
    {
     "data": {
      "image/png": "[encoded data removed]",
      "text/plain": [
       "<Figure size 432x288 with 2 Axes>"
      ]
     },
     "metadata": {
      "needs_background": "light"
     },
     "output_type": "display_data"
    }
   ],
   "source": [
    "ConfusionMatrixDisplay.from_predictions(y_test, y_pred)"
   ]
  },
  {
   "cell_type": "code",
   "execution_count": 12,
   "id": "d27cdd2f-4f8c-4c34-b1fd-3bb59f754838",
   "metadata": {},
   "outputs": [
    {
     "name": "stdout",
     "output_type": "stream",
     "text": [
      "KNN Validation Log Loss:  9.748806759944967\n",
      "KNN Precision Score    :  0.4671286124725368\n"
     ]
    }
   ],
   "source": [
    "knn_loss = log_loss(y_test, y_pred)\n",
    "pr_score = precision_score(y_test, y_pred)\n",
    "print('KNN Validation Log Loss: ', knn_loss)\n",
    "print('KNN Precision Score    : ', pr_score)"
   ]
  },
  {
   "cell_type": "markdown",
   "id": "03f321e1-ae89-4080-a872-5bd52c61a0e6",
   "metadata": {},
   "source": [
    "### Analyze X and y datasets for imbalance "
   ]
  },
  {
   "cell_type": "code",
   "execution_count": 13,
   "id": "c906e40e-0b99-4ca3-a639-be446b09c5af",
   "metadata": {},
   "outputs": [],
   "source": [
    "from imblearn.over_sampling import RandomOverSampler\n",
    "from imblearn.over_sampling import SMOTE"
   ]
  },
  {
   "cell_type": "code",
   "execution_count": 14,
   "id": "63b09038-9140-4b4d-9292-0bfad77a663b",
   "metadata": {},
   "outputs": [
    {
     "data": {
      "text/plain": [
       "0    80923\n",
       "1    30015\n",
       "Name: Arrest, dtype: int64"
      ]
     },
     "execution_count": 14,
     "metadata": {},
     "output_type": "execute_result"
    }
   ],
   "source": [
    "sample['Arrest'].value_counts()"
   ]
  },
  {
   "cell_type": "markdown",
   "id": "3f6dd0a5-3fd5-4327-87d5-d959ef9d7272",
   "metadata": {
    "tags": []
   },
   "source": [
    "There is an imbalance of class labels in our data set.\n",
    "- accuracy of just selecting non-arrest = 0.729"
   ]
  },
  {
   "cell_type": "markdown",
   "id": "c276d1b0-11b4-4c26-9183-d8c7d97c1ccc",
   "metadata": {},
   "source": [
    "### rebuild train and test"
   ]
  },
  {
   "cell_type": "code",
   "execution_count": 15,
   "id": "5c5eac4d-3434-4125-bf03-81ec2f541904",
   "metadata": {},
   "outputs": [
    {
     "name": "stdout",
     "output_type": "stream",
     "text": [
      "Train/Valid/Test sizes: 90633 22659 48554\n",
      "X_train.shape: (90633, 1108)\n",
      "y_train.shape: (90633,)\n",
      "X_test.shape: (48554, 1108)\n",
      "y_test.shape: (48554,)\n"
     ]
    }
   ],
   "source": [
    "sample = one_hot.sample(frac=0.3, random_state=123)\n",
    "\n",
    "X, y = sample.drop(\"Arrest\", axis=1).copy(), sample['Arrest']\n",
    "\n",
    "smote = SMOTE(random_state=0)\n",
    "X_resampled, y_resampled = smote.fit_resample(X, y)\n",
    "\n",
    "X_temp, X_test, y_temp, y_test = train_test_split(X_resampled, y_resampled, \n",
    "                                                    test_size=0.3,\n",
    "                                                    random_state=123,\n",
    "                                                    shuffle=True,\n",
    "                                                   stratify=y_resampled)\n",
    "\n",
    "\n",
    "X_train, X_valid, y_train, y_valid = \\\n",
    "    train_test_split(X_temp, y_temp, test_size=0.2, random_state=1, stratify=y_temp)\n",
    "print('Train/Valid/Test sizes:', y_train.shape[0], y_valid.shape[0], y_test.shape[0])\n",
    "\n",
    "print(f'X_train.shape: {X_train.shape}')\n",
    "print(f'y_train.shape: {y_train.shape}')\n",
    "print(f'X_test.shape: {X_test.shape}')\n",
    "print(f'y_test.shape: {y_test.shape}')"
   ]
  },
  {
   "cell_type": "code",
   "execution_count": 16,
   "id": "ab4e9055-c667-456f-a309-3e8f1f7c4371",
   "metadata": {},
   "outputs": [
    {
     "name": "stdout",
     "output_type": "stream",
     "text": [
      "Train Accuracy: 79.013%\n",
      "Valid Accuracy: 68.158%\n",
      "Test Accuracy : 68.128%\n",
      "KNN Validation Log Loss:  11.008249791760917\n",
      "KNN Precision Score    :  0.6673384030418251\n"
     ]
    },
    {
     "data": {
      "image/png": "[encoded data removed]",
      "text/plain": [
       "<Figure size 432x288 with 2 Axes>"
      ]
     },
     "metadata": {
      "needs_background": "light"
     },
     "output_type": "display_data"
    }
   ],
   "source": [
    "knn = KNeighborsClassifier(n_neighbors=5)\n",
    "knn.fit(X_train.values, y_train.values)\n",
    "print(f\"Train Accuracy: {knn.score(X_train.values, y_train.values)*100:0.3f}%\")\n",
    "print(f\"Valid Accuracy: {knn.score(X_valid.values, y_valid.values)*100:0.3f}%\")\n",
    "print(f\"Test Accuracy : {knn.score(X_test.values, y_test.values)*100:0.3f}%\")\n",
    "\n",
    "y_pred = knn.predict(X_test.values)\n",
    "ConfusionMatrixDisplay.from_predictions(y_test, y_pred)\n",
    "\n",
    "knn_loss = log_loss(y_test, y_pred)\n",
    "pr_score = precision_score(y_test, y_pred)\n",
    "print('KNN Validation Log Loss: ', knn_loss)\n",
    "print('KNN Precision Score    : ', pr_score)"
   ]
  },
  {
   "cell_type": "markdown",
   "id": "3f54e541-76f2-4e2b-8d47-2006416a58be",
   "metadata": {},
   "source": [
    "### let's try 10 neighbors"
   ]
  },
  {
   "cell_type": "code",
   "execution_count": 17,
   "id": "c4c78eee-c4fc-4a2f-9005-75e42b9faa9f",
   "metadata": {},
   "outputs": [
    {
     "name": "stdout",
     "output_type": "stream",
     "text": [
      "Train Accuracy: 73.810%\n",
      "Valid Accuracy: 66.883%\n",
      "Test Accuracy : 67.026%\n",
      "KNN Validation Log Loss:  11.388806139949878\n",
      "KNN Precision Score    :  0.6723512488012342\n"
     ]
    },
    {
     "data": {
      "image/png": "[encoded data removed]",
      "text/plain": [
       "<Figure size 432x288 with 2 Axes>"
      ]
     },
     "metadata": {
      "needs_background": "light"
     },
     "output_type": "display_data"
    }
   ],
   "source": [
    "knn = KNeighborsClassifier(n_neighbors=10)\n",
    "knn.fit(X_train.values, y_train.values)\n",
    "print(f\"Train Accuracy: {knn.score(X_train.values, y_train.values)*100:0.3f}%\")\n",
    "print(f\"Valid Accuracy: {knn.score(X_valid.values, y_valid.values)*100:0.3f}%\")\n",
    "print(f\"Test Accuracy : {knn.score(X_test.values, y_test.values)*100:0.3f}%\")\n",
    "\n",
    "y_pred = knn.predict(X_test.values)\n",
    "ConfusionMatrixDisplay.from_predictions(y_test, y_pred)\n",
    "\n",
    "knn_loss = log_loss(y_test, y_pred)\n",
    "pr_score = precision_score(y_test, y_pred)\n",
    "print('KNN Validation Log Loss: ', knn_loss)\n",
    "print('KNN Precision Score    : ', pr_score)"
   ]
  },
  {
   "cell_type": "code",
   "execution_count": 18,
   "id": "3d097883-0e64-4043-9065-79131078a0c2",
   "metadata": {},
   "outputs": [
    {
     "data": {
      "image/png": "[encoded data removed]",
      "text/plain": [
       "<Figure size 432x288 with 1 Axes>"
      ]
     },
     "metadata": {
      "needs_background": "light"
     },
     "output_type": "display_data"
    }
   ],
   "source": [
    "model = ExtraTreesClassifier()\n",
    "data_sample = sample.drop('Arrest', axis=1).copy()\n",
    "\n",
    "model.fit(data_sample, sample['Arrest'])\n",
    "\n",
    "feat_importances = pd.Series(model.feature_importances_, index=data_sample.columns)\n",
    "\n",
    "feat_importances.nlargest(10).plot(kind='barh')\n",
    "plt.show()"
   ]
  },
  {
   "cell_type": "code",
   "execution_count": 19,
   "id": "660383e7-d7c6-4566-8386-c7c4352a0a79",
   "metadata": {},
   "outputs": [
    {
     "data": {
      "text/plain": [
       "<AxesSubplot:>"
      ]
     },
     "execution_count": 19,
     "metadata": {},
     "output_type": "execute_result"
    },
    {
     "data": {
      "image/png": "[encoded data removed]",
      "text/plain": [
       "<Figure size 432x288 with 1 Axes>"
      ]
     },
     "metadata": {
      "needs_background": "light"
     },
     "output_type": "display_data"
    }
   ],
   "source": [
    "feat_importances.nlargest(15).plot(kind='barh')"
   ]
  },
  {
   "cell_type": "markdown",
   "id": "824e8719-73e5-44a4-b1b6-eff29abcb0d7",
   "metadata": {
    "tags": []
   },
   "source": [
    "# Hyper param tuning"
   ]
  },
  {
   "cell_type": "code",
   "execution_count": 23,
   "id": "128a082e-f9b0-4a96-93b6-072007a1a79f",
   "metadata": {},
   "outputs": [],
   "source": [
    "from hyperopt import Trials, STATUS_OK, tpe, hp, fmin\n",
    "import hyperopt.pyll.stochastic\n",
    "from sklearn.model_selection import StratifiedKFold\n",
    "import numpy as np\n",
    "import optuna"
   ]
  },
  {
   "cell_type": "code",
   "execution_count": 24,
   "id": "4b036d0b-88a4-4dbe-97a0-6df0b0a86ff8",
   "metadata": {},
   "outputs": [],
   "source": [
    "def optimization_objective(trial, X_train, y_train, cv=5):\n",
    "\n",
    "    \n",
    "    params =  {\n",
    "            \"n_estimators\": trial.suggest_categorical(\"n_estimators\", [30, 50, 100, 300]),\n",
    "            \"learning_rate\": trial.suggest_categorical(\"learning_rate\", [0.01]),\n",
    "            \"lambda\": trial.suggest_loguniform(\"lambda\", 1e-8, 1.0),\n",
    "            \"alpha\": trial.suggest_loguniform(\"alpha\", 1e-8, 1.0),\n",
    "    }\n",
    "    \n",
    "\n",
    "    cv_iterator = StratifiedKFold(n_splits=cv, shuffle=True, random_state=123)\n",
    "\n",
    "    cv_scores = np.zeros(cv)\n",
    "    for idx, (train_sub_idx, valid_idx) in enumerate(cv_iterator.split(X_train, y_train)):\n",
    "        \n",
    "        X_train_sub, X_valid = X_train[train_sub_idx], X_train[valid_idx]\n",
    "        y_train_sub, y_valid = y_train[train_sub_idx], y_train[valid_idx]\n",
    "        \n",
    "\n",
    "        model = XGBClassifier(**params, random_state=123, use_label_encoder=False)\n",
    "        \n",
    "        model.fit(\n",
    "            X_train_sub,\n",
    "            y_train_sub,\n",
    "            verbose=False,\n",
    "            eval_set=[(X_valid, y_valid)],\n",
    "            eval_metric=\"auc\",\n",
    "            early_stopping_rounds=100,\n",
    "        )\n",
    "        \n",
    "        preds = model.score(X_valid, y_valid)\n",
    "        \n",
    "        cv_scores[idx] = preds\n",
    "\n",
    "    return np.mean(cv_scores)"
   ]
  },
  {
   "cell_type": "code",
   "execution_count": 25,
   "id": "7be4aa00-6257-4a01-9155-bfad1f2337a4",
   "metadata": {},
   "outputs": [
    {
     "name": "stderr",
     "output_type": "stream",
     "text": [
      "\u001b[32m[I 2021-12-06 14:23:40,377]\u001b[0m A new study created in memory with name: XGBoost Classifier\u001b[0m\n",
      "\u001b[32m[I 2021-12-06 14:25:24,926]\u001b[0m Trial 0 finished with value: 0.8458177846679991 and parameters: {'n_estimators': 50, 'learning_rate': 0.01, 'lambda': 4.284692201228077e-08, 'alpha': 1.4305964573432777e-07}. Best is trial 0 with value: 0.8458177846679991.\u001b[0m\n",
      "\u001b[32m[I 2021-12-06 14:28:47,562]\u001b[0m Trial 1 finished with value: 0.8520406990775744 and parameters: {'n_estimators': 100, 'learning_rate': 0.01, 'lambda': 0.07040188550895629, 'alpha': 0.0018062801105899217}. Best is trial 1 with value: 0.8520406990775744.\u001b[0m\n",
      "\u001b[32m[I 2021-12-06 14:38:45,305]\u001b[0m Trial 2 finished with value: 0.8953913747731601 and parameters: {'n_estimators': 300, 'learning_rate': 0.01, 'lambda': 0.008794681428319863, 'alpha': 1.6370420793053065e-08}. Best is trial 2 with value: 0.8953913747731601.\u001b[0m\n",
      "\u001b[32m[I 2021-12-06 14:39:52,538]\u001b[0m Trial 3 finished with value: 0.8343760268169582 and parameters: {'n_estimators': 30, 'learning_rate': 0.01, 'lambda': 0.0014143031972396367, 'alpha': 1.5466419076281203e-07}. Best is trial 2 with value: 0.8953913747731601.\u001b[0m\n",
      "\u001b[32m[I 2021-12-06 14:49:53,525]\u001b[0m Trial 4 finished with value: 0.8953582749772757 and parameters: {'n_estimators': 300, 'learning_rate': 0.01, 'lambda': 3.252372310444977e-07, 'alpha': 0.002025173802929006}. Best is trial 2 with value: 0.8953913747731601.\u001b[0m\n"
     ]
    },
    {
     "ename": "KeyboardInterrupt",
     "evalue": "",
     "output_type": "error",
     "traceback": [
      "\u001b[1;31m---------------------------------------------------------------------------\u001b[0m",
      "\u001b[1;31mKeyboardInterrupt\u001b[0m                         Traceback (most recent call last)",
      "\u001b[1;32mC:\\Users\\6J3034~1\\AppData\\Local\\Temp/ipykernel_8124/1879554779.py\u001b[0m in \u001b[0;36m<module>\u001b[1;34m\u001b[0m\n\u001b[0;32m      4\u001b[0m     \u001b[1;32mreturn\u001b[0m \u001b[0moptimization_objective\u001b[0m\u001b[1;33m(\u001b[0m\u001b[0mtrial\u001b[0m\u001b[1;33m,\u001b[0m \u001b[0mX_train\u001b[0m\u001b[1;33m.\u001b[0m\u001b[0mvalues\u001b[0m\u001b[1;33m,\u001b[0m \u001b[0my_train\u001b[0m\u001b[1;33m.\u001b[0m\u001b[0mvalues\u001b[0m\u001b[1;33m)\u001b[0m\u001b[1;33m\u001b[0m\u001b[1;33m\u001b[0m\u001b[0m\n\u001b[0;32m      5\u001b[0m \u001b[1;33m\u001b[0m\u001b[0m\n\u001b[1;32m----> 6\u001b[1;33m \u001b[0mstudy\u001b[0m\u001b[1;33m.\u001b[0m\u001b[0moptimize\u001b[0m\u001b[1;33m(\u001b[0m\u001b[0mfunc\u001b[0m\u001b[1;33m,\u001b[0m \u001b[0mn_trials\u001b[0m\u001b[1;33m=\u001b[0m\u001b[1;36m25\u001b[0m\u001b[1;33m)\u001b[0m\u001b[1;33m;\u001b[0m\u001b[1;33m\u001b[0m\u001b[1;33m\u001b[0m\u001b[0m\n\u001b[0m",
      "\u001b[1;32m~\\Anaconda3\\envs\\CAML\\lib\\site-packages\\optuna\\study\\study.py\u001b[0m in \u001b[0;36moptimize\u001b[1;34m(self, func, n_trials, timeout, n_jobs, catch, callbacks, gc_after_trial, show_progress_bar)\u001b[0m\n\u001b[0;32m    398\u001b[0m             )\n\u001b[0;32m    399\u001b[0m \u001b[1;33m\u001b[0m\u001b[0m\n\u001b[1;32m--> 400\u001b[1;33m         _optimize(\n\u001b[0m\u001b[0;32m    401\u001b[0m             \u001b[0mstudy\u001b[0m\u001b[1;33m=\u001b[0m\u001b[0mself\u001b[0m\u001b[1;33m,\u001b[0m\u001b[1;33m\u001b[0m\u001b[1;33m\u001b[0m\u001b[0m\n\u001b[0;32m    402\u001b[0m             \u001b[0mfunc\u001b[0m\u001b[1;33m=\u001b[0m\u001b[0mfunc\u001b[0m\u001b[1;33m,\u001b[0m\u001b[1;33m\u001b[0m\u001b[1;33m\u001b[0m\u001b[0m\n",
      "\u001b[1;32m~\\Anaconda3\\envs\\CAML\\lib\\site-packages\\optuna\\study\\_optimize.py\u001b[0m in \u001b[0;36m_optimize\u001b[1;34m(study, func, n_trials, timeout, n_jobs, catch, callbacks, gc_after_trial, show_progress_bar)\u001b[0m\n\u001b[0;32m     64\u001b[0m     \u001b[1;32mtry\u001b[0m\u001b[1;33m:\u001b[0m\u001b[1;33m\u001b[0m\u001b[1;33m\u001b[0m\u001b[0m\n\u001b[0;32m     65\u001b[0m         \u001b[1;32mif\u001b[0m \u001b[0mn_jobs\u001b[0m \u001b[1;33m==\u001b[0m \u001b[1;36m1\u001b[0m\u001b[1;33m:\u001b[0m\u001b[1;33m\u001b[0m\u001b[1;33m\u001b[0m\u001b[0m\n\u001b[1;32m---> 66\u001b[1;33m             _optimize_sequential(\n\u001b[0m\u001b[0;32m     67\u001b[0m                 \u001b[0mstudy\u001b[0m\u001b[1;33m,\u001b[0m\u001b[1;33m\u001b[0m\u001b[1;33m\u001b[0m\u001b[0m\n\u001b[0;32m     68\u001b[0m                 \u001b[0mfunc\u001b[0m\u001b[1;33m,\u001b[0m\u001b[1;33m\u001b[0m\u001b[1;33m\u001b[0m\u001b[0m\n",
      "\u001b[1;32m~\\Anaconda3\\envs\\CAML\\lib\\site-packages\\optuna\\study\\_optimize.py\u001b[0m in \u001b[0;36m_optimize_sequential\u001b[1;34m(study, func, n_trials, timeout, catch, callbacks, gc_after_trial, reseed_sampler_rng, time_start, progress_bar)\u001b[0m\n\u001b[0;32m    161\u001b[0m \u001b[1;33m\u001b[0m\u001b[0m\n\u001b[0;32m    162\u001b[0m         \u001b[1;32mtry\u001b[0m\u001b[1;33m:\u001b[0m\u001b[1;33m\u001b[0m\u001b[1;33m\u001b[0m\u001b[0m\n\u001b[1;32m--> 163\u001b[1;33m             \u001b[0mtrial\u001b[0m \u001b[1;33m=\u001b[0m \u001b[0m_run_trial\u001b[0m\u001b[1;33m(\u001b[0m\u001b[0mstudy\u001b[0m\u001b[1;33m,\u001b[0m \u001b[0mfunc\u001b[0m\u001b[1;33m,\u001b[0m \u001b[0mcatch\u001b[0m\u001b[1;33m)\u001b[0m\u001b[1;33m\u001b[0m\u001b[1;33m\u001b[0m\u001b[0m\n\u001b[0m\u001b[0;32m    164\u001b[0m         \u001b[1;32mexcept\u001b[0m \u001b[0mException\u001b[0m\u001b[1;33m:\u001b[0m\u001b[1;33m\u001b[0m\u001b[1;33m\u001b[0m\u001b[0m\n\u001b[0;32m    165\u001b[0m             \u001b[1;32mraise\u001b[0m\u001b[1;33m\u001b[0m\u001b[1;33m\u001b[0m\u001b[0m\n",
      "\u001b[1;32m~\\Anaconda3\\envs\\CAML\\lib\\site-packages\\optuna\\study\\_optimize.py\u001b[0m in \u001b[0;36m_run_trial\u001b[1;34m(study, func, catch)\u001b[0m\n\u001b[0;32m    211\u001b[0m \u001b[1;33m\u001b[0m\u001b[0m\n\u001b[0;32m    212\u001b[0m     \u001b[1;32mtry\u001b[0m\u001b[1;33m:\u001b[0m\u001b[1;33m\u001b[0m\u001b[1;33m\u001b[0m\u001b[0m\n\u001b[1;32m--> 213\u001b[1;33m         \u001b[0mvalue_or_values\u001b[0m \u001b[1;33m=\u001b[0m \u001b[0mfunc\u001b[0m\u001b[1;33m(\u001b[0m\u001b[0mtrial\u001b[0m\u001b[1;33m)\u001b[0m\u001b[1;33m\u001b[0m\u001b[1;33m\u001b[0m\u001b[0m\n\u001b[0m\u001b[0;32m    214\u001b[0m     \u001b[1;32mexcept\u001b[0m \u001b[0mexceptions\u001b[0m\u001b[1;33m.\u001b[0m\u001b[0mTrialPruned\u001b[0m \u001b[1;32mas\u001b[0m \u001b[0me\u001b[0m\u001b[1;33m:\u001b[0m\u001b[1;33m\u001b[0m\u001b[1;33m\u001b[0m\u001b[0m\n\u001b[0;32m    215\u001b[0m         \u001b[1;31m# TODO(mamu): Handle multi-objective cases.\u001b[0m\u001b[1;33m\u001b[0m\u001b[1;33m\u001b[0m\u001b[0m\n",
      "\u001b[1;32mC:\\Users\\6J3034~1\\AppData\\Local\\Temp/ipykernel_8124/1879554779.py\u001b[0m in \u001b[0;36mfunc\u001b[1;34m(trial)\u001b[0m\n\u001b[0;32m      2\u001b[0m \u001b[1;33m\u001b[0m\u001b[0m\n\u001b[0;32m      3\u001b[0m \u001b[1;32mdef\u001b[0m \u001b[0mfunc\u001b[0m\u001b[1;33m(\u001b[0m\u001b[0mtrial\u001b[0m\u001b[1;33m)\u001b[0m\u001b[1;33m:\u001b[0m\u001b[1;33m\u001b[0m\u001b[1;33m\u001b[0m\u001b[0m\n\u001b[1;32m----> 4\u001b[1;33m     \u001b[1;32mreturn\u001b[0m \u001b[0moptimization_objective\u001b[0m\u001b[1;33m(\u001b[0m\u001b[0mtrial\u001b[0m\u001b[1;33m,\u001b[0m \u001b[0mX_train\u001b[0m\u001b[1;33m.\u001b[0m\u001b[0mvalues\u001b[0m\u001b[1;33m,\u001b[0m \u001b[0my_train\u001b[0m\u001b[1;33m.\u001b[0m\u001b[0mvalues\u001b[0m\u001b[1;33m)\u001b[0m\u001b[1;33m\u001b[0m\u001b[1;33m\u001b[0m\u001b[0m\n\u001b[0m\u001b[0;32m      5\u001b[0m \u001b[1;33m\u001b[0m\u001b[0m\n\u001b[0;32m      6\u001b[0m \u001b[0mstudy\u001b[0m\u001b[1;33m.\u001b[0m\u001b[0moptimize\u001b[0m\u001b[1;33m(\u001b[0m\u001b[0mfunc\u001b[0m\u001b[1;33m,\u001b[0m \u001b[0mn_trials\u001b[0m\u001b[1;33m=\u001b[0m\u001b[1;36m25\u001b[0m\u001b[1;33m)\u001b[0m\u001b[1;33m;\u001b[0m\u001b[1;33m\u001b[0m\u001b[1;33m\u001b[0m\u001b[0m\n",
      "\u001b[1;32mC:\\Users\\6J3034~1\\AppData\\Local\\Temp/ipykernel_8124/3848964543.py\u001b[0m in \u001b[0;36moptimization_objective\u001b[1;34m(trial, X_train, y_train, cv)\u001b[0m\n\u001b[0;32m     21\u001b[0m         \u001b[0mmodel\u001b[0m \u001b[1;33m=\u001b[0m \u001b[0mXGBClassifier\u001b[0m\u001b[1;33m(\u001b[0m\u001b[1;33m**\u001b[0m\u001b[0mparams\u001b[0m\u001b[1;33m,\u001b[0m \u001b[0mrandom_state\u001b[0m\u001b[1;33m=\u001b[0m\u001b[1;36m123\u001b[0m\u001b[1;33m,\u001b[0m \u001b[0muse_label_encoder\u001b[0m\u001b[1;33m=\u001b[0m\u001b[1;32mFalse\u001b[0m\u001b[1;33m)\u001b[0m\u001b[1;33m\u001b[0m\u001b[1;33m\u001b[0m\u001b[0m\n\u001b[0;32m     22\u001b[0m \u001b[1;33m\u001b[0m\u001b[0m\n\u001b[1;32m---> 23\u001b[1;33m         model.fit(\n\u001b[0m\u001b[0;32m     24\u001b[0m             \u001b[0mX_train_sub\u001b[0m\u001b[1;33m,\u001b[0m\u001b[1;33m\u001b[0m\u001b[1;33m\u001b[0m\u001b[0m\n\u001b[0;32m     25\u001b[0m             \u001b[0my_train_sub\u001b[0m\u001b[1;33m,\u001b[0m\u001b[1;33m\u001b[0m\u001b[1;33m\u001b[0m\u001b[0m\n",
      "\u001b[1;32m~\\Anaconda3\\envs\\CAML\\lib\\site-packages\\xgboost\\core.py\u001b[0m in \u001b[0;36minner_f\u001b[1;34m(*args, **kwargs)\u001b[0m\n\u001b[0;32m    504\u001b[0m         \u001b[1;32mfor\u001b[0m \u001b[0mk\u001b[0m\u001b[1;33m,\u001b[0m \u001b[0marg\u001b[0m \u001b[1;32min\u001b[0m \u001b[0mzip\u001b[0m\u001b[1;33m(\u001b[0m\u001b[0msig\u001b[0m\u001b[1;33m.\u001b[0m\u001b[0mparameters\u001b[0m\u001b[1;33m,\u001b[0m \u001b[0margs\u001b[0m\u001b[1;33m)\u001b[0m\u001b[1;33m:\u001b[0m\u001b[1;33m\u001b[0m\u001b[1;33m\u001b[0m\u001b[0m\n\u001b[0;32m    505\u001b[0m             \u001b[0mkwargs\u001b[0m\u001b[1;33m[\u001b[0m\u001b[0mk\u001b[0m\u001b[1;33m]\u001b[0m \u001b[1;33m=\u001b[0m \u001b[0marg\u001b[0m\u001b[1;33m\u001b[0m\u001b[1;33m\u001b[0m\u001b[0m\n\u001b[1;32m--> 506\u001b[1;33m         \u001b[1;32mreturn\u001b[0m \u001b[0mf\u001b[0m\u001b[1;33m(\u001b[0m\u001b[1;33m**\u001b[0m\u001b[0mkwargs\u001b[0m\u001b[1;33m)\u001b[0m\u001b[1;33m\u001b[0m\u001b[1;33m\u001b[0m\u001b[0m\n\u001b[0m\u001b[0;32m    507\u001b[0m \u001b[1;33m\u001b[0m\u001b[0m\n\u001b[0;32m    508\u001b[0m     \u001b[1;32mreturn\u001b[0m \u001b[0minner_f\u001b[0m\u001b[1;33m\u001b[0m\u001b[1;33m\u001b[0m\u001b[0m\n",
      "\u001b[1;32m~\\Anaconda3\\envs\\CAML\\lib\\site-packages\\xgboost\\sklearn.py\u001b[0m in \u001b[0;36mfit\u001b[1;34m(self, X, y, sample_weight, base_margin, eval_set, eval_metric, early_stopping_rounds, verbose, xgb_model, sample_weight_eval_set, base_margin_eval_set, feature_weights, callbacks)\u001b[0m\n\u001b[0;32m   1248\u001b[0m         )\n\u001b[0;32m   1249\u001b[0m \u001b[1;33m\u001b[0m\u001b[0m\n\u001b[1;32m-> 1250\u001b[1;33m         self._Booster = train(\n\u001b[0m\u001b[0;32m   1251\u001b[0m             \u001b[0mparams\u001b[0m\u001b[1;33m,\u001b[0m\u001b[1;33m\u001b[0m\u001b[1;33m\u001b[0m\u001b[0m\n\u001b[0;32m   1252\u001b[0m             \u001b[0mtrain_dmatrix\u001b[0m\u001b[1;33m,\u001b[0m\u001b[1;33m\u001b[0m\u001b[1;33m\u001b[0m\u001b[0m\n",
      "\u001b[1;32m~\\Anaconda3\\envs\\CAML\\lib\\site-packages\\xgboost\\training.py\u001b[0m in \u001b[0;36mtrain\u001b[1;34m(params, dtrain, num_boost_round, evals, obj, feval, maximize, early_stopping_rounds, evals_result, verbose_eval, xgb_model, callbacks)\u001b[0m\n\u001b[0;32m    186\u001b[0m     \u001b[0mBooster\u001b[0m \u001b[1;33m:\u001b[0m \u001b[0ma\u001b[0m \u001b[0mtrained\u001b[0m \u001b[0mbooster\u001b[0m \u001b[0mmodel\u001b[0m\u001b[1;33m\u001b[0m\u001b[1;33m\u001b[0m\u001b[0m\n\u001b[0;32m    187\u001b[0m     \"\"\"\n\u001b[1;32m--> 188\u001b[1;33m     bst = _train_internal(params, dtrain,\n\u001b[0m\u001b[0;32m    189\u001b[0m                           \u001b[0mnum_boost_round\u001b[0m\u001b[1;33m=\u001b[0m\u001b[0mnum_boost_round\u001b[0m\u001b[1;33m,\u001b[0m\u001b[1;33m\u001b[0m\u001b[1;33m\u001b[0m\u001b[0m\n\u001b[0;32m    190\u001b[0m                           \u001b[0mevals\u001b[0m\u001b[1;33m=\u001b[0m\u001b[0mevals\u001b[0m\u001b[1;33m,\u001b[0m\u001b[1;33m\u001b[0m\u001b[1;33m\u001b[0m\u001b[0m\n",
      "\u001b[1;32m~\\Anaconda3\\envs\\CAML\\lib\\site-packages\\xgboost\\training.py\u001b[0m in \u001b[0;36m_train_internal\u001b[1;34m(params, dtrain, num_boost_round, evals, obj, feval, xgb_model, callbacks, evals_result, maximize, verbose_eval, early_stopping_rounds)\u001b[0m\n\u001b[0;32m     79\u001b[0m         \u001b[1;32mif\u001b[0m \u001b[0mcallbacks\u001b[0m\u001b[1;33m.\u001b[0m\u001b[0mbefore_iteration\u001b[0m\u001b[1;33m(\u001b[0m\u001b[0mbst\u001b[0m\u001b[1;33m,\u001b[0m \u001b[0mi\u001b[0m\u001b[1;33m,\u001b[0m \u001b[0mdtrain\u001b[0m\u001b[1;33m,\u001b[0m \u001b[0mevals\u001b[0m\u001b[1;33m)\u001b[0m\u001b[1;33m:\u001b[0m\u001b[1;33m\u001b[0m\u001b[1;33m\u001b[0m\u001b[0m\n\u001b[0;32m     80\u001b[0m             \u001b[1;32mbreak\u001b[0m\u001b[1;33m\u001b[0m\u001b[1;33m\u001b[0m\u001b[0m\n\u001b[1;32m---> 81\u001b[1;33m         \u001b[0mbst\u001b[0m\u001b[1;33m.\u001b[0m\u001b[0mupdate\u001b[0m\u001b[1;33m(\u001b[0m\u001b[0mdtrain\u001b[0m\u001b[1;33m,\u001b[0m \u001b[0mi\u001b[0m\u001b[1;33m,\u001b[0m \u001b[0mobj\u001b[0m\u001b[1;33m)\u001b[0m\u001b[1;33m\u001b[0m\u001b[1;33m\u001b[0m\u001b[0m\n\u001b[0m\u001b[0;32m     82\u001b[0m         \u001b[1;32mif\u001b[0m \u001b[0mcallbacks\u001b[0m\u001b[1;33m.\u001b[0m\u001b[0mafter_iteration\u001b[0m\u001b[1;33m(\u001b[0m\u001b[0mbst\u001b[0m\u001b[1;33m,\u001b[0m \u001b[0mi\u001b[0m\u001b[1;33m,\u001b[0m \u001b[0mdtrain\u001b[0m\u001b[1;33m,\u001b[0m \u001b[0mevals\u001b[0m\u001b[1;33m)\u001b[0m\u001b[1;33m:\u001b[0m\u001b[1;33m\u001b[0m\u001b[1;33m\u001b[0m\u001b[0m\n\u001b[0;32m     83\u001b[0m             \u001b[1;32mbreak\u001b[0m\u001b[1;33m\u001b[0m\u001b[1;33m\u001b[0m\u001b[0m\n",
      "\u001b[1;32m~\\Anaconda3\\envs\\CAML\\lib\\site-packages\\xgboost\\core.py\u001b[0m in \u001b[0;36mupdate\u001b[1;34m(self, dtrain, iteration, fobj)\u001b[0m\n\u001b[0;32m   1678\u001b[0m \u001b[1;33m\u001b[0m\u001b[0m\n\u001b[0;32m   1679\u001b[0m         \u001b[1;32mif\u001b[0m \u001b[0mfobj\u001b[0m \u001b[1;32mis\u001b[0m \u001b[1;32mNone\u001b[0m\u001b[1;33m:\u001b[0m\u001b[1;33m\u001b[0m\u001b[1;33m\u001b[0m\u001b[0m\n\u001b[1;32m-> 1680\u001b[1;33m             _check_call(_LIB.XGBoosterUpdateOneIter(self.handle,\n\u001b[0m\u001b[0;32m   1681\u001b[0m                                                     \u001b[0mctypes\u001b[0m\u001b[1;33m.\u001b[0m\u001b[0mc_int\u001b[0m\u001b[1;33m(\u001b[0m\u001b[0miteration\u001b[0m\u001b[1;33m)\u001b[0m\u001b[1;33m,\u001b[0m\u001b[1;33m\u001b[0m\u001b[1;33m\u001b[0m\u001b[0m\n\u001b[0;32m   1682\u001b[0m                                                     dtrain.handle))\n",
      "\u001b[1;31mKeyboardInterrupt\u001b[0m: "
     ]
    }
   ],
   "source": [
    "study = optuna.create_study(direction=\"maximize\", study_name=\"XGBoost Classifier\")\n",
    "\n",
    "def func(trial):\n",
    "    return optimization_objective(trial, X_train.values, y_train.values)\n",
    "\n",
    "study.optimize(func, n_trials=25);"
   ]
  },
  {
   "cell_type": "code",
   "execution_count": null,
   "id": "a487a0dd-28c4-49c2-8fd2-dc4b29fbb71b",
   "metadata": {},
   "outputs": [],
   "source": [
    "print(f\"Best CV accuracy: {study.best_value:.5f}\")\n",
    "print(\"Best params:\")\n",
    "\n",
    "for key, value in study.best_params.items():\n",
    "    print(f\"\\t{key}: {value}\")"
   ]
  },
  {
   "cell_type": "code",
   "execution_count": null,
   "id": "4afe579f-e93e-413f-a07b-feefabe92fa6",
   "metadata": {},
   "outputs": [],
   "source": [
    "model = XGBClassifier(**study.best_params, random_state=123, use_label_encoder=False)\n",
    "model.fit(\n",
    "    X_train,\n",
    "    y_train,\n",
    "    verbose=False,\n",
    "    eval_set=[(X_valid, y_valid)],\n",
    "    eval_metric=\"auc\",\n",
    "    early_stopping_rounds=100,\n",
    ")"
   ]
  },
  {
   "cell_type": "code",
   "execution_count": null,
   "id": "242d7a2b-e7c3-42a3-ba70-24ecc494278d",
   "metadata": {},
   "outputs": [],
   "source": [
    "print(f\"Training Accuracy: {model.score(X_train, y_train):0.3f}\")\n",
    "print(f\"Test Accuracy: {model.score(X_test, y_test):0.3f}\")"
   ]
  },
  {
   "cell_type": "code",
   "execution_count": null,
   "id": "ca30df4a-b3df-434b-8681-9a8c2501fc22",
   "metadata": {},
   "outputs": [],
   "source": [
    "# {'n_estimators': 300, 'learning_rate': 0.01, 'lambda': 0.008794681428319863, 'alpha': 1.6370420793053065e-08}"
   ]
  },
  {
   "cell_type": "code",
   "execution_count": null,
   "id": "19106212-e643-4647-b5b1-b68cfa80aa08",
   "metadata": {},
   "outputs": [],
   "source": []
  },
  {
   "cell_type": "code",
   "execution_count": null,
   "id": "1f21b127-d0e3-4d16-bb8e-6fb430832cc2",
   "metadata": {},
   "outputs": [],
   "source": []
  },
  {
   "cell_type": "code",
   "execution_count": null,
   "id": "24e0c203-a625-4e1d-bf0e-079180e68664",
   "metadata": {},
   "outputs": [],
   "source": []
  }
 ],
 "metadata": {
  "kernelspec": {
   "display_name": "Python 3 (ipykernel)",
   "language": "python",
   "name": "python3"
  },
  "language_info": {
   "codemirror_mode": {
    "name": "ipython",
    "version": 3
   },
   "file_extension": ".py",
   "mimetype": "text/x-python",
   "name": "python",
   "nbconvert_exporter": "python",
   "pygments_lexer": "ipython3",
   "version": "3.9.7"
  }
 },
 "nbformat": 4,
 "nbformat_minor": 5
}

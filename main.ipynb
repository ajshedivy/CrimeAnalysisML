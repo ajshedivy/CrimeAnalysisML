{
 "cells": [
  {
   "cell_type": "markdown",
   "id": "405c829f-2dee-478c-9bd5-f0b22e9430b6",
   "metadata": {},
   "source": [
    "# Chicago Crime Prediction Using Machine learning\n",
    "```\n",
    "-------------------------------\n",
    "Authors:\n",
    "    Adam Shedivy\n",
    "    Kate Dums\n",
    "    Shane Spellman\n",
    "-------------------------------\n",
    "```"
   ]
  },
  {
   "cell_type": "code",
   "execution_count": 1,
   "id": "b3dac0c5-5f52-4570-ab9a-50a1c5300fe4",
   "metadata": {},
   "outputs": [],
   "source": [
    "# import libraries\n",
    "import os\n",
    "import pandas as pd\n",
    "import numpy as np\n",
    "\n",
    "# import seaborn as sns # install seaborn with either pip or conda, used for heat maps\n",
    "%matplotlib inline\n",
    "from matplotlib import pyplot as plt\n",
    "from matplotlib import style\n",
    "\n",
    "# Algorithms\n",
    "from sklearn import linear_model\n",
    "from sklearn.linear_model import SGDClassifier, LogisticRegression\n",
    "from sklearn.ensemble import RandomForestClassifier\n",
    "from sklearn.linear_model import Perceptron\n",
    "from sklearn.tree import DecisionTreeClassifier\n",
    "from sklearn.neighbors import KNeighborsClassifier\n",
    "from sklearn.svm import SVC, LinearSVC\n",
    "from sklearn.naive_bayes import GaussianNB, MultinomialNB\n",
    "from sklearn.ensemble import AdaBoostClassifier, ExtraTreesClassifier\n",
    "from sklearn.neural_network import MLPClassifier\n",
    "from xgboost import XGBClassifier\n",
    "import xgboost as xgb\n",
    "\n",
    "# import DataSet\n",
    "from util.data_util import DataSet\n",
    "\n",
    "from sklearn.model_selection import train_test_split\n",
    "from sklearn.metrics import log_loss, confusion_matrix, precision_recall_curve, \\\n",
    "precision_score, precision_recall_fscore_support, plot_confusion_matrix\n",
    "from sklearn.metrics import ConfusionMatrixDisplay"
   ]
  },
  {
   "cell_type": "markdown",
   "id": "21ae18ea-e603-4afe-a0bd-2bc09880b960",
   "metadata": {},
   "source": [
    "## Load Data\n",
    "\n",
    "make sure that the file `cleaned_data.zip` is in the `data` directory before starting.\n",
    "\n",
    "- `ds.load_data()` is used to load the dataset sequentially. if you specify the argument `num_years` then the function will only load that number of years starting from 2001. By default, the function downloads all years (this may take a while). \n",
    "\n",
    "- `ds.load_subset()` will load a selected subset of the years, specified by a list of years ex. `['2009, '2010', '2011']`\n",
    "\n",
    "**NOTE**: using `load_data` on the entire dataset takes a very long time (30 min +), reading in smaller chunks using `load_subset` and then using `pd.concat` may be a better work around"
   ]
  },
  {
   "cell_type": "code",
   "execution_count": 2,
   "id": "83b57836-a3ae-4b1b-a9ed-9e8c4a3ad2f3",
   "metadata": {},
   "outputs": [],
   "source": [
    "def create_master_df():\n",
    "    cleaned_data = 'cleaned_data.zip'\n",
    "    ds = DataSet(cleaned_data)\n",
    "    data = ds.load_subset(['2010'])\n",
    "    df = data.apply(pd.to_numeric, errors = 'ignore')\n",
    "\n",
    "    root_dir = os.getcwd()\n",
    "    com_data = os.path.join(root_dir, 'data', 'Per_Capita_Income.csv')\n",
    "    com_df = pd.read_csv(com_data)\n",
    "    com_df = com_df.apply(pd.to_numeric, errors='ignore')\n",
    "\n",
    "    com_df.fillna(0)\n",
    "    com_df = com_df.rename(columns={'Community Area Number': 'Community Area'})\n",
    "    df = df[df['Community Area'] != 0]\n",
    "    df = df.merge(com_df, how='left', on='Community Area')\n",
    "\n",
    "    df.drop(['Block'], axis=1, inplace=True)\n",
    "    df.drop(['Description'], axis=1, inplace=True)\n",
    "    df.drop(['Location Description'], axis=1, inplace=True)\n",
    "    df.drop(['Updated On'], axis=1, inplace=True)\n",
    "    df.drop(['Location'], axis=1, inplace=True)\n",
    "    df.drop(['COMMUNITY AREA NAME'], axis=1, inplace=True)\n",
    "    df.drop(['Year'], axis=1, inplace=True)\n",
    "    \n",
    "    return df"
   ]
  },
  {
   "cell_type": "code",
   "execution_count": 3,
   "id": "d41efb90-1138-4c71-896c-ffcca03b7c08",
   "metadata": {},
   "outputs": [
    {
     "name": "stdout",
     "output_type": "stream",
     "text": [
      "C:\\Users\\ajshe\\Documents\\year4\\fall-2021\\stat451\\CrimeAnalysisML\\data\\cleaned_data.zip\n",
      "downloading: data/2010/data_2010.csv ...\n",
      "done.\n",
      "build DataFrame ...\n"
     ]
    }
   ],
   "source": [
    "master_data = create_master_df()"
   ]
  },
  {
   "cell_type": "code",
   "execution_count": 4,
   "id": "e13343e6-1aa9-4e33-9fb7-93d39f63fb21",
   "metadata": {},
   "outputs": [
    {
     "data": {
      "text/html": [
       "<div>\n",
       "<style scoped>\n",
       "    .dataframe tbody tr th:only-of-type {\n",
       "        vertical-align: middle;\n",
       "    }\n",
       "\n",
       "    .dataframe tbody tr th {\n",
       "        vertical-align: top;\n",
       "    }\n",
       "\n",
       "    .dataframe thead th {\n",
       "        text-align: right;\n",
       "    }\n",
       "</style>\n",
       "<table border=\"1\" class=\"dataframe\">\n",
       "  <thead>\n",
       "    <tr style=\"text-align: right;\">\n",
       "      <th></th>\n",
       "      <th>Arrest</th>\n",
       "      <th>Domestic</th>\n",
       "      <th>Beat</th>\n",
       "      <th>District</th>\n",
       "      <th>Ward</th>\n",
       "      <th>Community Area</th>\n",
       "      <th>X Coordinate</th>\n",
       "      <th>Y Coordinate</th>\n",
       "      <th>Latitude</th>\n",
       "      <th>Longitude</th>\n",
       "      <th>...</th>\n",
       "      <th>Radius</th>\n",
       "      <th>Angle</th>\n",
       "      <th>Type</th>\n",
       "      <th>PERCENT OF HOUSING CROWDED</th>\n",
       "      <th>PERCENT HOUSEHOLDS BELOW POVERTY</th>\n",
       "      <th>PERCENT AGED 16+ UNEMPLOYED</th>\n",
       "      <th>PERCENT AGED 25+ WITHOUT HIGH SCHOOL DIPLOMA</th>\n",
       "      <th>PERCENT AGED UNDER 18 OR OVER 64</th>\n",
       "      <th>PER CAPITA INCOME</th>\n",
       "      <th>HARDSHIP INDEX</th>\n",
       "    </tr>\n",
       "  </thead>\n",
       "  <tbody>\n",
       "    <tr>\n",
       "      <th>0</th>\n",
       "      <td>0</td>\n",
       "      <td>0</td>\n",
       "      <td>323</td>\n",
       "      <td>3.0</td>\n",
       "      <td>6.0</td>\n",
       "      <td>69.0</td>\n",
       "      <td>1183191.0</td>\n",
       "      <td>1855830.0</td>\n",
       "      <td>41.759594</td>\n",
       "      <td>-87.604169</td>\n",
       "      <td>...</td>\n",
       "      <td>97.048205</td>\n",
       "      <td>2.696770</td>\n",
       "      <td>9</td>\n",
       "      <td>3.6</td>\n",
       "      <td>29.6</td>\n",
       "      <td>23.0</td>\n",
       "      <td>16.5</td>\n",
       "      <td>41.0</td>\n",
       "      <td>17285</td>\n",
       "      <td>66.0</td>\n",
       "    </tr>\n",
       "    <tr>\n",
       "      <th>1</th>\n",
       "      <td>1</td>\n",
       "      <td>0</td>\n",
       "      <td>924</td>\n",
       "      <td>9.0</td>\n",
       "      <td>12.0</td>\n",
       "      <td>61.0</td>\n",
       "      <td>1161779.0</td>\n",
       "      <td>1875003.0</td>\n",
       "      <td>41.812678</td>\n",
       "      <td>-87.682112</td>\n",
       "      <td>...</td>\n",
       "      <td>97.141406</td>\n",
       "      <td>2.696622</td>\n",
       "      <td>23</td>\n",
       "      <td>11.9</td>\n",
       "      <td>29.0</td>\n",
       "      <td>23.0</td>\n",
       "      <td>41.5</td>\n",
       "      <td>38.9</td>\n",
       "      <td>12765</td>\n",
       "      <td>91.0</td>\n",
       "    </tr>\n",
       "    <tr>\n",
       "      <th>2</th>\n",
       "      <td>1</td>\n",
       "      <td>0</td>\n",
       "      <td>1124</td>\n",
       "      <td>11.0</td>\n",
       "      <td>2.0</td>\n",
       "      <td>27.0</td>\n",
       "      <td>1156795.0</td>\n",
       "      <td>1899213.0</td>\n",
       "      <td>41.879216</td>\n",
       "      <td>-87.699738</td>\n",
       "      <td>...</td>\n",
       "      <td>97.185970</td>\n",
       "      <td>2.696082</td>\n",
       "      <td>18</td>\n",
       "      <td>8.2</td>\n",
       "      <td>42.4</td>\n",
       "      <td>19.6</td>\n",
       "      <td>21.3</td>\n",
       "      <td>43.2</td>\n",
       "      <td>12961</td>\n",
       "      <td>83.0</td>\n",
       "    </tr>\n",
       "    <tr>\n",
       "      <th>3</th>\n",
       "      <td>0</td>\n",
       "      <td>0</td>\n",
       "      <td>1834</td>\n",
       "      <td>18.0</td>\n",
       "      <td>42.0</td>\n",
       "      <td>8.0</td>\n",
       "      <td>1177342.0</td>\n",
       "      <td>1903838.0</td>\n",
       "      <td>41.891466</td>\n",
       "      <td>-87.624153</td>\n",
       "      <td>...</td>\n",
       "      <td>97.123051</td>\n",
       "      <td>2.695633</td>\n",
       "      <td>9</td>\n",
       "      <td>1.9</td>\n",
       "      <td>12.9</td>\n",
       "      <td>7.0</td>\n",
       "      <td>2.5</td>\n",
       "      <td>22.6</td>\n",
       "      <td>88669</td>\n",
       "      <td>1.0</td>\n",
       "    </tr>\n",
       "    <tr>\n",
       "      <th>4</th>\n",
       "      <td>1</td>\n",
       "      <td>0</td>\n",
       "      <td>1112</td>\n",
       "      <td>11.0</td>\n",
       "      <td>27.0</td>\n",
       "      <td>23.0</td>\n",
       "      <td>1150571.0</td>\n",
       "      <td>1905280.0</td>\n",
       "      <td>41.895988</td>\n",
       "      <td>-87.722433</td>\n",
       "      <td>...</td>\n",
       "      <td>97.213677</td>\n",
       "      <td>2.696027</td>\n",
       "      <td>18</td>\n",
       "      <td>14.8</td>\n",
       "      <td>33.9</td>\n",
       "      <td>17.3</td>\n",
       "      <td>35.4</td>\n",
       "      <td>38.0</td>\n",
       "      <td>13781</td>\n",
       "      <td>85.0</td>\n",
       "    </tr>\n",
       "  </tbody>\n",
       "</table>\n",
       "<p>5 rows × 40 columns</p>\n",
       "</div>"
      ],
      "text/plain": [
       "   Arrest  Domestic  Beat  District  Ward  Community Area  X Coordinate  \\\n",
       "0       0         0   323       3.0   6.0            69.0     1183191.0   \n",
       "1       1         0   924       9.0  12.0            61.0     1161779.0   \n",
       "2       1         0  1124      11.0   2.0            27.0     1156795.0   \n",
       "3       0         0  1834      18.0  42.0             8.0     1177342.0   \n",
       "4       1         0  1112      11.0  27.0            23.0     1150571.0   \n",
       "\n",
       "   Y Coordinate   Latitude  Longitude  ...     Radius     Angle  Type  \\\n",
       "0     1855830.0  41.759594 -87.604169  ...  97.048205  2.696770     9   \n",
       "1     1875003.0  41.812678 -87.682112  ...  97.141406  2.696622    23   \n",
       "2     1899213.0  41.879216 -87.699738  ...  97.185970  2.696082    18   \n",
       "3     1903838.0  41.891466 -87.624153  ...  97.123051  2.695633     9   \n",
       "4     1905280.0  41.895988 -87.722433  ...  97.213677  2.696027    18   \n",
       "\n",
       "   PERCENT OF HOUSING CROWDED  PERCENT HOUSEHOLDS BELOW POVERTY  \\\n",
       "0                         3.6                              29.6   \n",
       "1                        11.9                              29.0   \n",
       "2                         8.2                              42.4   \n",
       "3                         1.9                              12.9   \n",
       "4                        14.8                              33.9   \n",
       "\n",
       "   PERCENT AGED 16+ UNEMPLOYED  PERCENT AGED 25+ WITHOUT HIGH SCHOOL DIPLOMA  \\\n",
       "0                         23.0                                          16.5   \n",
       "1                         23.0                                          41.5   \n",
       "2                         19.6                                          21.3   \n",
       "3                          7.0                                           2.5   \n",
       "4                         17.3                                          35.4   \n",
       "\n",
       "   PERCENT AGED UNDER 18 OR OVER 64  PER CAPITA INCOME   HARDSHIP INDEX  \n",
       "0                              41.0               17285            66.0  \n",
       "1                              38.9               12765            91.0  \n",
       "2                              43.2               12961            83.0  \n",
       "3                              22.6               88669             1.0  \n",
       "4                              38.0               13781            85.0  \n",
       "\n",
       "[5 rows x 40 columns]"
      ]
     },
     "execution_count": 4,
     "metadata": {},
     "output_type": "execute_result"
    }
   ],
   "source": [
    "master_data.head()"
   ]
  },
  {
   "cell_type": "code",
   "execution_count": 5,
   "id": "1942b345-9d5e-45c4-8d3f-2ba1e230ecd5",
   "metadata": {},
   "outputs": [
    {
     "name": "stdout",
     "output_type": "stream",
     "text": [
      "<class 'pandas.core.frame.DataFrame'>\n",
      "Int64Index: 369793 entries, 0 to 369792\n",
      "Data columns (total 40 columns):\n",
      " #   Column                                        Non-Null Count   Dtype  \n",
      "---  ------                                        --------------   -----  \n",
      " 0   Arrest                                        369793 non-null  int64  \n",
      " 1   Domestic                                      369793 non-null  int64  \n",
      " 2   Beat                                          369793 non-null  int64  \n",
      " 3   District                                      369793 non-null  float64\n",
      " 4   Ward                                          369793 non-null  float64\n",
      " 5   Community Area                                369793 non-null  float64\n",
      " 6   X Coordinate                                  369793 non-null  float64\n",
      " 7   Y Coordinate                                  369793 non-null  float64\n",
      " 8   Latitude                                      369793 non-null  float64\n",
      " 9   Longitude                                     369793 non-null  float64\n",
      " 10  Month                                         369793 non-null  int64  \n",
      " 11  dayOfWeek                                     369793 non-null  int64  \n",
      " 12  dayOfMonth                                    369793 non-null  int64  \n",
      " 13  dayOfYear                                     369793 non-null  int64  \n",
      " 14  weekOfMonth                                   369793 non-null  int64  \n",
      " 15  weekOfYear                                    369793 non-null  int64  \n",
      " 16  Hour                                          369793 non-null  int64  \n",
      " 17  Day                                           369793 non-null  int64  \n",
      " 18  Minute                                        369793 non-null  int64  \n",
      " 19  Holiday                                       369793 non-null  int64  \n",
      " 20  BusinessHour                                  369793 non-null  int64  \n",
      " 21  Season                                        369793 non-null  int64  \n",
      " 22  Weekend                                       369793 non-null  int64  \n",
      " 23  Cluster                                       369793 non-null  int64  \n",
      " 24  Rot30_X                                       369793 non-null  float64\n",
      " 25  Rot30_Y                                       369793 non-null  float64\n",
      " 26  Rot45_X                                       369793 non-null  float64\n",
      " 27  Rot45_Y                                       369793 non-null  float64\n",
      " 28  Rot60_X                                       369793 non-null  float64\n",
      " 29  Rot60_Y                                       369793 non-null  float64\n",
      " 30  Radius                                        369793 non-null  float64\n",
      " 31  Angle                                         369793 non-null  float64\n",
      " 32  Type                                          369793 non-null  int64  \n",
      " 33  PERCENT OF HOUSING CROWDED                    369793 non-null  float64\n",
      " 34  PERCENT HOUSEHOLDS BELOW POVERTY              369793 non-null  float64\n",
      " 35  PERCENT AGED 16+ UNEMPLOYED                   369793 non-null  float64\n",
      " 36  PERCENT AGED 25+ WITHOUT HIGH SCHOOL DIPLOMA  369793 non-null  float64\n",
      " 37  PERCENT AGED UNDER 18 OR OVER 64              369793 non-null  float64\n",
      " 38  PER CAPITA INCOME                             369793 non-null  int64  \n",
      " 39  HARDSHIP INDEX                                369793 non-null  float64\n",
      "dtypes: float64(21), int64(19)\n",
      "memory usage: 115.7 MB\n"
     ]
    }
   ],
   "source": [
    "master_data.info()"
   ]
  },
  {
   "cell_type": "markdown",
   "id": "d0f305dd-0e87-4207-97cb-92bedea63c00",
   "metadata": {},
   "source": [
    "## Refactor feature columns"
   ]
  },
  {
   "cell_type": "code",
   "execution_count": 6,
   "id": "ee687804-dd5e-4659-8f39-1139d52f9629",
   "metadata": {},
   "outputs": [],
   "source": [
    "def one_hot_encode(train_data, categories):\n",
    "    encoded_df = train_data\n",
    "    for cat in categories:\n",
    "        encoded_df = pd.concat([encoded_df, \n",
    "                                    pd.get_dummies(pd.Series(encoded_df[cat]), prefix=cat)], axis=1)\n",
    "    encoded_df = encoded_df.drop(categories, axis=1)\n",
    "    \n",
    "    return encoded_df"
   ]
  },
  {
   "cell_type": "code",
   "execution_count": 7,
   "id": "023aee33-f716-4fce-ab73-45ace3791fab",
   "metadata": {},
   "outputs": [
    {
     "data": {
      "text/plain": [
       "(369793, 1109)"
      ]
     },
     "execution_count": 7,
     "metadata": {},
     "output_type": "execute_result"
    }
   ],
   "source": [
    "feature_cols = ['Beat', 'District', 'Ward', 'Community Area', 'Month', 'dayOfWeek',\n",
    "               'dayOfYear', 'weekOfMonth', 'weekOfYear', 'Hour', 'Day', 'Minute', 'Holiday',\n",
    "                'Season', 'Cluster', 'Type']\n",
    "\n",
    "one_hot = one_hot_encode(master_data, feature_cols)\n",
    "one_hot.shape"
   ]
  },
  {
   "cell_type": "markdown",
   "id": "0fd2d96f-73bd-40a6-b716-75294e2b6168",
   "metadata": {},
   "source": [
    "## Create Sample Data Set"
   ]
  },
  {
   "cell_type": "code",
   "execution_count": 10,
   "id": "30617b1f-c289-42a6-b9f9-16dff84ea4d4",
   "metadata": {},
   "outputs": [
    {
     "data": {
      "text/plain": [
       "(36979, 1109)"
      ]
     },
     "execution_count": 10,
     "metadata": {},
     "output_type": "execute_result"
    }
   ],
   "source": [
    "sample = one_hot.sample(frac=0.1, random_state=123)\n",
    "sample.shape"
   ]
  },
  {
   "cell_type": "markdown",
   "id": "05e9cb07-2523-4bac-b9a6-bd24002c9c91",
   "metadata": {
    "tags": []
   },
   "source": [
    "## Generate Train and Test Sets"
   ]
  },
  {
   "cell_type": "code",
   "execution_count": 11,
   "id": "9693e913-18cf-4b80-9ce9-bb422610485b",
   "metadata": {},
   "outputs": [
    {
     "name": "stdout",
     "output_type": "stream",
     "text": [
      "Train/Valid/Test sizes: 20708 5177 11094\n",
      "X_train.shape: (20708, 1108)\n",
      "y_train.shape: (20708,)\n",
      "X_test.shape: (11094, 1108)\n",
      "y_test.shape: (11094,)\n"
     ]
    }
   ],
   "source": [
    "X, y = sample.drop('Arrest', axis=1).copy(), sample['Arrest']\n",
    "\n",
    "X_temp, X_test, y_temp, y_test = train_test_split(X, y, \n",
    "                                                    test_size=0.3,\n",
    "                                                    random_state=123,\n",
    "                                                    shuffle=True,\n",
    "                                                   stratify=y)\n",
    "\n",
    "\n",
    "X_train, X_valid, y_train, y_valid = \\\n",
    "    train_test_split(X_temp, y_temp, test_size=0.2, random_state=1, stratify=y_temp)\n",
    "print('Train/Valid/Test sizes:', y_train.shape[0], y_valid.shape[0], y_test.shape[0])\n",
    "\n",
    "print(f'X_train.shape: {X_train.shape}')\n",
    "print(f'y_train.shape: {y_train.shape}')\n",
    "print(f'X_test.shape: {X_test.shape}')\n",
    "print(f'y_test.shape: {y_test.shape}')"
   ]
  },
  {
   "cell_type": "markdown",
   "id": "aba48d07-8649-4e25-a34e-7a0a325005ba",
   "metadata": {},
   "source": [
    "## Baseline KNN Models"
   ]
  },
  {
   "cell_type": "code",
   "execution_count": 12,
   "id": "f6999c9f-49be-46a1-9e99-a58ea4e07aaf",
   "metadata": {},
   "outputs": [
    {
     "name": "stdout",
     "output_type": "stream",
     "text": [
      "Train Accuracy: 78.815%\n",
      "Valid Accuracy: 69.635%\n",
      "Test Accuracy: 0.695\n"
     ]
    },
    {
     "data": {
      "text/plain": [
       "<sklearn.metrics._plot.confusion_matrix.ConfusionMatrixDisplay at 0x1bf84055a90>"
      ]
     },
     "execution_count": 12,
     "metadata": {},
     "output_type": "execute_result"
    },
    {
     "data": {
      "image/png": "[encoded data removed]",
      "text/plain": [
       "<Figure size 432x288 with 2 Axes>"
      ]
     },
     "metadata": {
      "needs_background": "light"
     },
     "output_type": "display_data"
    }
   ],
   "source": [
    "knn = KNeighborsClassifier(n_neighbors=5)\n",
    "knn.fit(X_train.values, y_train.values)\n",
    "print(f\"Train Accuracy: {knn.score(X_train.values, y_train.values)*100:0.3f}%\")\n",
    "print(f\"Valid Accuracy: {knn.score(X_valid.values, y_valid.values)*100:0.3f}%\")\n",
    "print(\"Test Accuracy: %0.3f\" % knn.score(X_test.values, y_test.values))\n",
    "\n",
    "y_pred = knn.predict(X_test.values)\n",
    "ConfusionMatrixDisplay.from_predictions(y_test, y_pred)"
   ]
  },
  {
   "cell_type": "code",
   "execution_count": 13,
   "id": "ee6ad65e-01ff-4c3b-97eb-4277f2c7d483",
   "metadata": {},
   "outputs": [
    {
     "name": "stdout",
     "output_type": "stream",
     "text": [
      "KNN Validation Log Loss:  10.526100676844637\n",
      "KNN Precision Score    :  0.41159135559921417\n"
     ]
    }
   ],
   "source": [
    "knn_loss = log_loss(y_test, y_pred)\n",
    "pr_score = precision_score(y_test, y_pred)\n",
    "print('KNN Validation Log Loss: ', knn_loss)\n",
    "print('KNN Precision Score    : ', pr_score)"
   ]
  },
  {
   "cell_type": "code",
   "execution_count": 14,
   "id": "fe760c34-8c24-4826-9a04-cc2634ace3b7",
   "metadata": {},
   "outputs": [
    {
     "name": "stdout",
     "output_type": "stream",
     "text": [
      "KNN Validation Log Loss:  10.526100676844637\n",
      "KNN Precision Score    :  0.41159135559921417\n"
     ]
    }
   ],
   "source": [
    "knn_loss = log_loss(y_test, y_pred)\n",
    "pr_score = precision_score(y_test, y_pred)\n",
    "print('KNN Validation Log Loss: ', knn_loss)\n",
    "print('KNN Precision Score    : ', pr_score)"
   ]
  },
  {
   "cell_type": "markdown",
   "id": "8a3536ee-6b23-4fda-9b6f-c897f4fa670c",
   "metadata": {},
   "source": [
    "### Analyze X and y datasets for imbalance "
   ]
  },
  {
   "cell_type": "code",
   "execution_count": 15,
   "id": "e72601f2-b654-4e62-aa68-a633cb8e041f",
   "metadata": {},
   "outputs": [],
   "source": [
    "from imblearn.over_sampling import RandomOverSampler\n",
    "from imblearn.over_sampling import SMOTE"
   ]
  },
  {
   "cell_type": "code",
   "execution_count": 16,
   "id": "d7a94dbf-18a5-45c4-863b-c2704f632d7a",
   "metadata": {},
   "outputs": [
    {
     "data": {
      "text/plain": [
       "0    26908\n",
       "1    10071\n",
       "Name: Arrest, dtype: int64"
      ]
     },
     "execution_count": 16,
     "metadata": {},
     "output_type": "execute_result"
    }
   ],
   "source": [
    "sample['Arrest'].value_counts()"
   ]
  },
  {
   "cell_type": "markdown",
   "id": "1af55e5b-879f-49de-9f9d-2f1e4b5a5a63",
   "metadata": {},
   "source": [
    "There is an imbalance of class labels in our data set.\n",
    "- accuracy of just selecting non-arrest = 0.729"
   ]
  },
  {
   "cell_type": "markdown",
   "id": "42ad1a63-764c-4b7f-b19a-0a7fa3616feb",
   "metadata": {},
   "source": [
    "### rebuild train and test"
   ]
  },
  {
   "cell_type": "code",
   "execution_count": 17,
   "id": "82e2dbf4-b614-4562-86ab-8d931e9dcfa4",
   "metadata": {},
   "outputs": [
    {
     "name": "stdout",
     "output_type": "stream",
     "text": [
      "Train/Valid/Test sizes: 90633 22659 48554\n",
      "X_train.shape: (90633, 1108)\n",
      "y_train.shape: (90633,)\n",
      "X_test.shape: (48554, 1108)\n",
      "y_test.shape: (48554,)\n"
     ]
    }
   ],
   "source": [
    "sample = one_hot.sample(frac=0.3, random_state=123)\n",
    "\n",
    "X, y = sample.drop(\"Arrest\", axis=1).copy(), sample['Arrest']\n",
    "\n",
    "smote = SMOTE(random_state=0)\n",
    "X_resampled, y_resampled = smote.fit_resample(X, y)\n",
    "\n",
    "X_temp, X_test, y_temp, y_test = train_test_split(X_resampled, y_resampled, \n",
    "                                                    test_size=0.3,\n",
    "                                                    random_state=123,\n",
    "                                                    shuffle=True,\n",
    "                                                   stratify=y_resampled)\n",
    "\n",
    "\n",
    "X_train, X_valid, y_train, y_valid = \\\n",
    "    train_test_split(X_temp, y_temp, test_size=0.2, random_state=1, stratify=y_temp)\n",
    "print('Train/Valid/Test sizes:', y_train.shape[0], y_valid.shape[0], y_test.shape[0])\n",
    "\n",
    "print(f'X_train.shape: {X_train.shape}')\n",
    "print(f'y_train.shape: {y_train.shape}')\n",
    "print(f'X_test.shape: {X_test.shape}')\n",
    "print(f'y_test.shape: {y_test.shape}')"
   ]
  },
  {
   "cell_type": "code",
   "execution_count": null,
   "id": "29502aaf-21a0-4a9c-8070-6e390b5e3311",
   "metadata": {},
   "outputs": [],
   "source": [
    "knn = KNeighborsClassifier(n_neighbors=5)\n",
    "knn.fit(X_train.values, y_train.values)\n",
    "print(f\"Train Accuracy: {knn.score(X_train.values, y_train.values)*100:0.3f}%\")\n",
    "print(f\"Valid Accuracy: {knn.score(X_valid.values, y_valid.values)*100:0.3f}%\")\n",
    "print(f\"Test Accuracy : {knn.score(X_test.values, y_test.values)*100:0.3f}%\")\n",
    "\n",
    "y_pred = knn.predict(X_test.values)\n",
    "ConfusionMatrixDisplay.from_predictions(y_test, y_pred)\n",
    "\n",
    "knn_loss = log_loss(y_test, y_pred)\n",
    "pr_score = precision_score(y_test, y_pred)\n",
    "print('KNN Validation Log Loss: ', knn_loss)\n",
    "print('KNN Precision Score    : ', pr_score)"
   ]
  },
  {
   "cell_type": "code",
   "execution_count": null,
   "id": "bc94a767-9270-49ed-9bd7-85985f626ba9",
   "metadata": {},
   "outputs": [],
   "source": [
    "knn = KNeighborsClassifier(n_neighbors=11)\n",
    "knn.fit(X_train.values, y_train.values)\n",
    "print(f\"Train Accuracy: {knn.score(X_train.values, y_train.values)*100:0.3f}%\")\n",
    "print(f\"Valid Accuracy: {knn.score(X_valid.values, y_valid.values)*100:0.3f}%\")\n",
    "print(f\"Test Accuracy : {knn.score(X_test.values, y_test.values)*100:0.3f}%\")\n",
    "\n",
    "y_pred = knn.predict(X_test.values)\n",
    "ConfusionMatrixDisplay.from_predictions(y_test, y_pred)\n",
    "\n",
    "knn_loss = log_loss(y_test, y_pred)\n",
    "pr_score = precision_score(y_test, y_pred)\n",
    "print('KNN Validation Log Loss: ', knn_loss)\n",
    "print('KNN Precision Score    : ', pr_score)"
   ]
  },
  {
   "cell_type": "markdown",
   "id": "72622b52-c2b2-4892-b350-050a0616bb73",
   "metadata": {},
   "source": [
    "### Feature selection using ExtraTreesClassifier"
   ]
  },
  {
   "cell_type": "code",
   "execution_count": null,
   "id": "208227ad-960c-4fdc-b626-3c69c6a4580c",
   "metadata": {},
   "outputs": [],
   "source": [
    "model = ExtraTreesClassifier()\n",
    "data_sample = sample.drop('Arrest', axis=1).copy()\n",
    "\n",
    "model.fit(data_sample, sample['Arrest'])\n",
    "\n",
    "feat_importances = pd.Series(model.feature_importances_, index=data_sample.columns)\n",
    "\n",
    "feat_importances.nlargest(10).plot(kind='barh')\n",
    "plt.show()"
   ]
  },
  {
   "cell_type": "code",
   "execution_count": null,
   "id": "7ce7115d-629a-447f-bb61-a93c68b3f228",
   "metadata": {},
   "outputs": [],
   "source": [
    "feat_importances.nlargest(15).plot(kind='barh')"
   ]
  },
  {
   "cell_type": "code",
   "execution_count": null,
   "id": "0e14796b-5ca7-4d3e-b5a1-e3b2170d47dd",
   "metadata": {},
   "outputs": [],
   "source": [
    "selected_columns = ['Type_18','Weekend','BusinessHour','Type_33','Type_8','Type_6','Domestic' ,'Season_2',\n",
    "                    'Season_4','Type_2','Type_3']"
   ]
  },
  {
   "cell_type": "code",
   "execution_count": null,
   "id": "70154c1f-1df1-48e3-a6b3-16a6300c8189",
   "metadata": {},
   "outputs": [],
   "source": [
    "feature_data = one_hot[selected_columns]\n",
    "feature_data.head()"
   ]
  },
  {
   "cell_type": "code",
   "execution_count": null,
   "id": "068b5548-0456-4fd4-b3d2-fc9634148657",
   "metadata": {},
   "outputs": [],
   "source": [
    "sample = feature_data.sample(frac=0.3, random_state=123)\n",
    "\n",
    "X, y = sample.drop(\"Arrest\", axis=1).copy(), sample['Arrest']\n",
    "\n",
    "smote = SMOTE(random_state=0)\n",
    "X_resampled, y_resampled = smote.fit_resample(X, y)\n",
    "\n",
    "X_temp, X_test, y_temp, y_test = train_test_split(X_resampled, y_resampled, \n",
    "                                                    test_size=0.3,\n",
    "                                                    random_state=123,\n",
    "                                                    shuffle=True,\n",
    "                                                   stratify=y_resampled)\n",
    "\n",
    "\n",
    "X_train, X_valid, y_train, y_valid = \\\n",
    "    train_test_split(X_temp, y_temp, test_size=0.2, random_state=1, stratify=y_temp)\n",
    "print('Train/Valid/Test sizes:', y_train.shape[0], y_valid.shape[0], y_test.shape[0])\n",
    "\n",
    "print(f'X_train.shape: {X_train.shape}')\n",
    "print(f'y_train.shape: {y_train.shape}')\n",
    "print(f'X_test.shape: {X_test.shape}')\n",
    "print(f'y_test.shape: {y_test.shape}')"
   ]
  },
  {
   "cell_type": "code",
   "execution_count": null,
   "id": "0b3c5e04-a05c-49df-bcb0-43db0d09fa9e",
   "metadata": {},
   "outputs": [],
   "source": [
    "knn = KNeighborsClassifier(n_neighbors=11)\n",
    "knn.fit(X_train.values, y_train.values)\n",
    "print(f\"Train Accuracy: {knn.score(X_train.values, y_train.values)*100:0.3f}%\")\n",
    "print(f\"Valid Accuracy: {knn.score(X_valid.values, y_valid.values)*100:0.3f}%\")\n",
    "print(f\"Test Accuracy : {knn.score(X_test.values, y_test.values)*100:0.3f}%\")\n",
    "\n",
    "y_pred = knn.predict(X_test.values)\n",
    "ConfusionMatrixDisplay.from_predictions(y_test, y_pred)\n",
    "\n",
    "knn_loss = log_loss(y_test, y_pred)\n",
    "pr_score = precision_score(y_test, y_pred)\n",
    "print('KNN Validation Log Loss: ', knn_loss)\n",
    "print('KNN Precision Score    : ', pr_score)"
   ]
  },
  {
   "cell_type": "markdown",
   "id": "01679bf6-bc17-4306-9a31-a4817c94a8ca",
   "metadata": {},
   "source": [
    "# Hyper param tuning"
   ]
  },
  {
   "cell_type": "code",
   "execution_count": null,
   "id": "f865b456-35fb-4a7b-832d-185a0876b830",
   "metadata": {},
   "outputs": [],
   "source": [
    "from hyperopt import Trials, STATUS_OK, tpe, hp, fmin\n",
    "import hyperopt.pyll.stochastic\n",
    "from sklearn.model_selection import StratifiedKFold\n",
    "import numpy as np\n",
    "import optuna"
   ]
  },
  {
   "cell_type": "code",
   "execution_count": 19,
   "id": "883e1cd1-a4d9-4c28-959d-6555388110f6",
   "metadata": {},
   "outputs": [],
   "source": [
    "def optimization_objective(trial, X_train, y_train, cv=5):\n",
    "\n",
    "    \n",
    "    params =  {\n",
    "            \"n_estimators\": trial.suggest_categorical(\"n_estimators\", [30, 50, 100, 300]),\n",
    "            \"learning_rate\": trial.suggest_categorical(\"learning_rate\", [0.01]),\n",
    "            \"lambda\": trial.suggest_loguniform(\"lambda\", 1e-8, 1.0),\n",
    "            \"alpha\": trial.suggest_loguniform(\"alpha\", 1e-8, 1.0),\n",
    "    }\n",
    "    \n",
    "\n",
    "    cv_iterator = StratifiedKFold(n_splits=cv, shuffle=True, random_state=123)\n",
    "\n",
    "    cv_scores = np.zeros(cv)\n",
    "    for idx, (train_sub_idx, valid_idx) in enumerate(cv_iterator.split(X_train, y_train)):\n",
    "        \n",
    "        X_train_sub, X_valid = X_train[train_sub_idx], X_train[valid_idx]\n",
    "        y_train_sub, y_valid = y_train[train_sub_idx], y_train[valid_idx]\n",
    "        \n",
    "\n",
    "        model = XGBClassifier(**params, random_state=123, use_label_encoder=False)\n",
    "        \n",
    "        model.fit(\n",
    "            X_train_sub,\n",
    "            y_train_sub,\n",
    "            verbose=False,\n",
    "            eval_set=[(X_valid, y_valid)],\n",
    "            eval_metric=\"auc\",\n",
    "            early_stopping_rounds=100,\n",
    "        )\n",
    "        \n",
    "        preds = model.score(X_valid, y_valid)\n",
    "        \n",
    "        cv_scores[idx] = preds\n",
    "\n",
    "    return np.mean(cv_scores)"
   ]
  },
  {
   "cell_type": "code",
   "execution_count": null,
   "id": "2c5d45db-e6df-4bb4-8afb-54dde3ba9e41",
   "metadata": {},
   "outputs": [],
   "source": [
    "study = optuna.create_study(direction=\"maximize\", study_name=\"XGBoost Classifier\")\n",
    "\n",
    "def func(trial):\n",
    "    return optimization_objective(trial, X_train.values, y_train.values)\n",
    "\n",
    "study.optimize(func, n_trials=25);"
   ]
  },
  {
   "cell_type": "code",
   "execution_count": null,
   "id": "04279732-d5c8-4235-8423-db6c81be4f15",
   "metadata": {},
   "outputs": [],
   "source": [
    "print(f\"Best CV accuracy: {study.best_value:.5f}\")\n",
    "print(\"Best params:\")\n",
    "\n",
    "for key, value in study.best_params.items():\n",
    "    print(f\"\\t{key}: {value}\")"
   ]
  },
  {
   "cell_type": "code",
   "execution_count": null,
   "id": "b89f8cd4-a9a4-429d-96f6-f2365aa3cb62",
   "metadata": {},
   "outputs": [],
   "source": [
    "model = XGBClassifier(**study.best_params, random_state=123, use_label_encoder=False)\n",
    "model.fit(\n",
    "    X_train,\n",
    "    y_train,\n",
    "    verbose=False,\n",
    "    eval_set=[(X_valid, y_valid)],\n",
    "    eval_metric=\"auc\",\n",
    "    early_stopping_rounds=100,\n",
    ")"
   ]
  },
  {
   "cell_type": "markdown",
   "id": "9e44a10e-9fcb-4893-b184-93c6c20208fa",
   "metadata": {},
   "source": [
    "```\n",
    "XGBClassifier(alpha=1.5250645374694402e-05, base_score=0.5, booster='gbtree',\n",
    "              colsample_bylevel=1, colsample_bynode=1, colsample_bytree=1,\n",
    "              enable_categorical=False, gamma=0, gpu_id=-1,\n",
    "              importance_type=None, interaction_constraints='',\n",
    "              lambda=6.75602695966699e-05, learning_rate=0.01, max_delta_step=0,\n",
    "              max_depth=6, min_child_weight=1, missing=nan,\n",
    "              monotone_constraints='()', n_estimators=300, n_jobs=8,\n",
    "              num_parallel_tree=1, predictor='auto', random_state=123,\n",
    "              reg_alpha=1.52506445e-05, reg_lambda=6.75602714e-05,\n",
    "              scale_pos_weight=1, subsample=1, tree_method='exact',\n",
    "              use_label_encoder=False, validate_parameters=1, ...)\n",
    "```"
   ]
  },
  {
   "cell_type": "markdown",
   "id": "f32b82c0-c3a0-4789-9783-d415d5fc3c0f",
   "metadata": {},
   "source": [
    "# Exploratory Analysis on Community Area and Primary type"
   ]
  },
  {
   "cell_type": "code",
   "execution_count": null,
   "id": "2330666f-78a2-46a0-94b1-da5c6ef27066",
   "metadata": {},
   "outputs": [],
   "source": [
    "cols = ['Community Area', 'Arrest']\n",
    "com_data = master_data[cols]\n",
    "com_data.head()"
   ]
  },
  {
   "cell_type": "code",
   "execution_count": null,
   "id": "5c3dc231-29f4-4853-9e93-de51471d46f1",
   "metadata": {},
   "outputs": [],
   "source": [
    "one_hot_com = one_hot_encode(com_data, ['Community Area'])\n",
    "one_hot_com.shape"
   ]
  },
  {
   "cell_type": "code",
   "execution_count": null,
   "id": "d8824ec3-280e-4a38-8908-294481b1ae3e",
   "metadata": {},
   "outputs": [],
   "source": [
    "sample = one_hot_com.sample(frac=0.3, random_state=123)\n",
    "\n",
    "X, y = sample.drop(\"Arrest\", axis=1).copy(), sample['Arrest']\n",
    "\n",
    "smote = SMOTE(random_state=0)\n",
    "X_resampled, y_resampled = smote.fit_resample(X, y)\n",
    "\n",
    "X_temp, X_test, y_temp, y_test = train_test_split(X_resampled, y_resampled, \n",
    "                                                    test_size=0.3,\n",
    "                                                    random_state=123,\n",
    "                                                    shuffle=True,\n",
    "                                                   stratify=y_resampled)\n",
    "\n",
    "\n",
    "X_train, X_valid, y_train, y_valid = \\\n",
    "    train_test_split(X_temp, y_temp, test_size=0.2, random_state=1, stratify=y_temp)\n",
    "print('Train/Valid/Test sizes:', y_train.shape[0], y_valid.shape[0], y_test.shape[0])\n",
    "\n",
    "print(f'X_train.shape: {X_train.shape}')\n",
    "print(f'y_train.shape: {y_train.shape}')\n",
    "print(f'X_test.shape: {X_test.shape}')\n",
    "print(f'y_test.shape: {y_test.shape}')"
   ]
  },
  {
   "cell_type": "code",
   "execution_count": null,
   "id": "32932c93-c22b-46b4-9c3d-9600110958c0",
   "metadata": {},
   "outputs": [],
   "source": [
    "knn.fit(X_train.values, y_train.values)\n",
    "print(f\"Train Accuracy: {knn.score(X_train.values, y_train.values)*100:0.3f}%\")\n",
    "print(f\"Valid Accuracy: {knn.score(X_valid.values, y_valid.values)*100:0.3f}%\")\n",
    "print(f\"Test Accuracy : {knn.score(X_test.values, y_test.values)*100:0.3f}%\")\n",
    "\n",
    "y_pred = knn.predict(X_test.values)\n",
    "ConfusionMatrixDisplay.from_predictions(y_test, y_pred)\n",
    "\n",
    "knn_loss = log_loss(y_test, y_pred)\n",
    "pr_score = precision_score(y_test, y_pred)\n",
    "print('KNN Validation Log Loss: ', knn_loss)\n",
    "print('KNN Precision Score    : ', pr_score)"
   ]
  },
  {
   "cell_type": "code",
   "execution_count": null,
   "id": "966ddb21-3f4f-448a-a909-e441934799ce",
   "metadata": {},
   "outputs": [],
   "source": [
    "model = ExtraTreesClassifier()\n",
    "data_sample = sample.drop('Arrest', axis=1).copy()\n",
    "\n",
    "model.fit(data_sample, sample['Arrest'])\n",
    "\n",
    "feat_importances = pd.Series(model.feature_importances_, index=data_sample.columns)\n",
    "\n",
    "feat_importances.nlargest(10).plot(kind='barh')\n",
    "plt.show()"
   ]
  },
  {
   "cell_type": "code",
   "execution_count": null,
   "id": "7587b0e9-e391-45f7-8951-7f35c6bdb801",
   "metadata": {},
   "outputs": [],
   "source": [
    "subset_cols = ['Arrest', 'Type', 'Community Area', 'Domestic', 'District']\n",
    "subset_data = master_data[subset_cols]\n",
    "one_hot_subset = one_hot_encode(subset_data, ['Type', 'Community Area', 'District'])\n",
    "one_hot_subset.head()"
   ]
  },
  {
   "cell_type": "code",
   "execution_count": null,
   "id": "b7a1a1d0-0d24-4e03-a2b1-4e70bd6b4c87",
   "metadata": {},
   "outputs": [],
   "source": [
    "sample = one_hot_subset.sample(frac=0.3, random_state=123)\n",
    "\n",
    "X, y = sample.drop(\"Arrest\", axis=1).copy(), sample['Arrest']\n",
    "\n",
    "smote = SMOTE(random_state=0)\n",
    "X_resampled, y_resampled = smote.fit_resample(X, y)\n",
    "\n",
    "X_temp, X_test, y_temp, y_test = train_test_split(X_resampled, y_resampled, \n",
    "                                                    test_size=0.3,\n",
    "                                                    random_state=123,\n",
    "                                                    shuffle=True,\n",
    "                                                   stratify=y_resampled)\n",
    "\n",
    "\n",
    "X_train, X_valid, y_train, y_valid = \\\n",
    "    train_test_split(X_temp, y_temp, test_size=0.2, random_state=1, stratify=y_temp)\n",
    "print('Train/Valid/Test sizes:', y_train.shape[0], y_valid.shape[0], y_test.shape[0])\n",
    "\n",
    "print(f'X_train.shape: {X_train.shape}')\n",
    "print(f'y_train.shape: {y_train.shape}')\n",
    "print(f'X_test.shape: {X_test.shape}')\n",
    "print(f'y_test.shape: {y_test.shape}')"
   ]
  },
  {
   "cell_type": "code",
   "execution_count": null,
   "id": "f78c1c4d-2f37-4fee-b0fa-8e32722d33cd",
   "metadata": {},
   "outputs": [],
   "source": [
    "knn = KNeighborsClassifier(n_neighbors=11)\n",
    "knn.fit(X_train.values, y_train.values)\n",
    "print(f\"Train Accuracy: {knn.score(X_train.values, y_train.values)*100:0.3f}%\")\n",
    "print(f\"Valid Accuracy: {knn.score(X_valid.values, y_valid.values)*100:0.3f}%\")\n",
    "print(f\"Test Accuracy : {knn.score(X_test.values, y_test.values)*100:0.3f}%\")\n",
    "\n",
    "y_pred = knn.predict(X_test.values)\n",
    "ConfusionMatrixDisplay.from_predictions(y_test, y_pred)\n",
    "\n",
    "knn_loss = log_loss(y_test, y_pred)\n",
    "pr_score = precision_score(y_test, y_pred)\n",
    "print('KNN Validation Log Loss: ', knn_loss)\n",
    "print('KNN Precision Score    : ', pr_score)"
   ]
  }
 ],
 "metadata": {
  "kernelspec": {
   "display_name": "Python 3 (ipykernel)",
   "language": "python",
   "name": "python3"
  },
  "language_info": {
   "codemirror_mode": {
    "name": "ipython",
    "version": 3
   },
   "file_extension": ".py",
   "mimetype": "text/x-python",
   "name": "python",
   "nbconvert_exporter": "python",
   "pygments_lexer": "ipython3",
   "version": "3.9.7"
  }
 },
 "nbformat": 4,
 "nbformat_minor": 5
}
